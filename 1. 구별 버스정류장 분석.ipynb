{
 "cells": [
  {
   "cell_type": "markdown",
   "id": "boxed-jamaica",
   "metadata": {
    "id": "boxed-jamaica"
   },
   "source": [
    "# AIVLE스쿨 1차 미니프로젝트: 서울시 생활정보 기반 대중교통 수요 분석"
   ]
  },
  {
   "cell_type": "markdown",
   "id": "9ea815ef-cdcf-460b-a4fa-6f6f18c030dc",
   "metadata": {
    "id": "9ea815ef-cdcf-460b-a4fa-6f6f18c030dc"
   },
   "source": [
    "<img src = \"https://github.com/Jangrae/img/blob/master/bus.png?raw=true\" width=800, align=\"left\"/>"
   ]
  },
  {
   "cell_type": "markdown",
   "id": "dc8136a8-beb7-4361-ae42-14fd9fdf5613",
   "metadata": {
    "id": "dc8136a8-beb7-4361-ae42-14fd9fdf5613"
   },
   "source": [
    "- 본 과정에서는 실제 사례와 데이터를 기반으로 문제를 해결하는 전체 과정을 자기 주도형 실습으로 진행해볼 예정입니다.\n",
    "- 앞선 교육과정을 정리하는 마음과 지금까지 배운 내용을 바탕으로 문제 해결을 해볼게요!\n",
    "- 미니 프로젝트를 통한 문제 해결 과정 'A에서 Z까지', 지금부터 시작합니다!"
   ]
  },
  {
   "cell_type": "markdown",
   "id": "ef575059",
   "metadata": {
    "id": "ef575059"
   },
   "source": [
    "---"
   ]
  },
  {
   "cell_type": "markdown",
   "id": "f2bc4fa5",
   "metadata": {
    "id": "f2bc4fa5"
   },
   "source": [
    "# [미션 1] 구별 버스정류장 분석"
   ]
  },
  {
   "cell_type": "markdown",
   "id": "a33ab5ce-425a-4258-aead-db22031269ad",
   "metadata": {
    "id": "a33ab5ce-425a-4258-aead-db22031269ad"
   },
   "source": [
    "### 로컬 수행(Anaconda)\n",
    "- project 폴더에 필요한 파일들을 넣고, 본 파일을 열었다면, 별도 경로 지정이 필요하지 않습니다."
   ]
  },
  {
   "cell_type": "code",
   "execution_count": 6,
   "id": "ea3b8c63-8b7d-4c98-8aca-0475f5740c52",
   "metadata": {
    "id": "ea3b8c63-8b7d-4c98-8aca-0475f5740c52",
    "tags": []
   },
   "outputs": [],
   "source": [
    "# 기본 경로\n",
    "path = ''"
   ]
  },
  {
   "cell_type": "markdown",
   "id": "37d9d724-8a11-49b6-a6d0-cef9fb0d033e",
   "metadata": {
    "id": "37d9d724-8a11-49b6-a6d0-cef9fb0d033e"
   },
   "source": [
    "### 구글 콜랩 수행\n",
    "\n",
    "- 구글 콜랩을 사용중이면 구글 드라이브를 연결합니다."
   ]
  },
  {
   "cell_type": "code",
   "execution_count": 9,
   "id": "648076d0-5ceb-43c2-a932-00e4e9c7780f",
   "metadata": {
    "id": "648076d0-5ceb-43c2-a932-00e4e9c7780f",
    "tags": []
   },
   "outputs": [],
   "source": [
    "# 구글 드라이브 연결, 패스 지정\n",
    "import sys\n",
    "if 'google.colab' in sys.modules:\n",
    "    from google.colab import drive\n",
    "    drive.mount('/content/drive')\n",
    "    path = '/content/drive/MyDrive/project/'"
   ]
  },
  {
   "cell_type": "markdown",
   "id": "b54c772d-7bdb-4ebe-a079-f43975dea60b",
   "metadata": {
    "id": "b54c772d-7bdb-4ebe-a079-f43975dea60b"
   },
   "source": [
    "### 한글 폰트 표시를 위해 설치합니다."
   ]
  },
  {
   "cell_type": "code",
   "execution_count": 12,
   "id": "56c76cbb-8e06-49ef-9342-1ec0c20e55c5",
   "metadata": {
    "id": "56c76cbb-8e06-49ef-9342-1ec0c20e55c5"
   },
   "outputs": [],
   "source": [
    "# 한글 표시를 위한 라이브러리 설치\n",
    "!pip install koreanize_matplotlib -q"
   ]
  },
  {
   "cell_type": "markdown",
   "id": "d53101ef-342b-4589-9488-0ffc4b859940",
   "metadata": {
    "id": "d53101ef-342b-4589-9488-0ffc4b859940"
   },
   "source": [
    "### 필요한 라이브러리를 불러옵니다."
   ]
  },
  {
   "cell_type": "code",
   "execution_count": 14,
   "id": "0bd83ddf",
   "metadata": {
    "id": "0bd83ddf",
    "tags": []
   },
   "outputs": [],
   "source": [
    "# 라이브러리 불러오기\n",
    "import numpy as np\n",
    "import pandas as pd\n",
    "import matplotlib.pyplot as plt\n",
    "import koreanize_matplotlib\n",
    "import warnings\n",
    "\n",
    "warnings.filterwarnings(action='ignore')\n",
    "%config InlineBackend.figure_format='retina'"
   ]
  },
  {
   "cell_type": "markdown",
   "id": "revolutionary-farmer",
   "metadata": {
    "id": "revolutionary-farmer"
   },
   "source": [
    "### 기본 데이터: 1.1 bus_station_boarding_month_202408.csv\n",
    "- 서울시 버스노선별 정류장별 승하차 인원 정보\n",
    "- 출처: https://data.seoul.go.kr/dataList/OA-12912/S/1/datasetView.do\n",
    "\n",
    "### 추가 데이터: 1.1 bus_station_202408.xlsx\n",
    "- 서울시 버스정류장 위치정보\n",
    "- 출처: https://data.seoul.go.kr/dataList/OA-15067/S/1/datasetView.do"
   ]
  },
  {
   "cell_type": "markdown",
   "id": "66b509d5-719b-4310-91a7-051a43f8c325",
   "metadata": {
    "id": "66b509d5-719b-4310-91a7-051a43f8c325"
   },
   "source": [
    "---"
   ]
  },
  {
   "cell_type": "markdown",
   "id": "warming-gentleman",
   "metadata": {
    "id": "warming-gentleman"
   },
   "source": [
    "# 1. 데이터 불러오기\n",
    "\n",
    "- 분석 대상 데이터를 불러와 데이터프레임으로 선언합니다."
   ]
  },
  {
   "cell_type": "markdown",
   "id": "5f095db8-dcf8-4024-aa9e-b6fbf3fd3071",
   "metadata": {
    "id": "5f095db8-dcf8-4024-aa9e-b6fbf3fd3071",
    "jp-MarkdownHeadingCollapsed": true
   },
   "source": [
    "### [참고] 데이터 프레임을 불러오고 변수로 저장(CSV 기준으로 진행)\n",
    "\n",
    "- csv: pd.read_csv('파일이름.csv')\n",
    "- txt: pd.read_csv('파일이름.csv', sep='구분자')\n",
    "- xlsx: pd.read_excel('파일이름.xlsx')\n",
    "- pickle: pd.read_pickle('파일이름.pkl')"
   ]
  },
  {
   "cell_type": "markdown",
   "id": "vocational-animal",
   "metadata": {
    "id": "vocational-animal"
   },
   "source": [
    "## [실습1] 데이터 불러오기\n",
    "\n",
    "- 대상 파일: 1.1 bus_station_boarding_month_202408.csv\n",
    "- 불러온 데이터는 bus_station 데이터프레임으로 선언하세요.\n",
    "- 데이터 불러올 때 참고할 사항\n",
    "    - 구분자(sep)는 ',' 입니다\n",
    "    - CP949 인코더를 사용해 주세요\n",
    "- 가상 정류장은 '버스정류장ARS번호' 열 값이 '~'로 저정되어 있습니다.\n",
    "- 가상 정류장은 버스정보시스템 상에서 위치 정보를 표시하기 위해 임의로 설정한 것이며, 실제하지 않습니다.\n",
    "- 그러므로 가상 정류장 행은 삭제합니다."
   ]
  },
  {
   "cell_type": "code",
   "execution_count": 22,
   "id": "saving-slope",
   "metadata": {
    "id": "saving-slope",
    "scrolled": true,
    "tags": []
   },
   "outputs": [
    {
     "data": {
      "text/html": [
       "<div>\n",
       "<style scoped>\n",
       "    .dataframe tbody tr th:only-of-type {\n",
       "        vertical-align: middle;\n",
       "    }\n",
       "\n",
       "    .dataframe tbody tr th {\n",
       "        vertical-align: top;\n",
       "    }\n",
       "\n",
       "    .dataframe thead th {\n",
       "        text-align: right;\n",
       "    }\n",
       "</style>\n",
       "<table border=\"1\" class=\"dataframe\">\n",
       "  <thead>\n",
       "    <tr style=\"text-align: right;\">\n",
       "      <th></th>\n",
       "      <th>사용일자</th>\n",
       "      <th>노선번호</th>\n",
       "      <th>노선명</th>\n",
       "      <th>버스정류장ARS번호</th>\n",
       "      <th>역명</th>\n",
       "      <th>승차총승객수</th>\n",
       "      <th>하차총승객수</th>\n",
       "      <th>등록일자</th>\n",
       "    </tr>\n",
       "  </thead>\n",
       "  <tbody>\n",
       "    <tr>\n",
       "      <th>0</th>\n",
       "      <td>20240801</td>\n",
       "      <td>100</td>\n",
       "      <td>100번(하계동~용산구청)</td>\n",
       "      <td>01002</td>\n",
       "      <td>창경궁.서울대학교병원(00031)</td>\n",
       "      <td>123</td>\n",
       "      <td>134</td>\n",
       "      <td>20240804</td>\n",
       "    </tr>\n",
       "    <tr>\n",
       "      <th>1</th>\n",
       "      <td>20240801</td>\n",
       "      <td>7728</td>\n",
       "      <td>7728번(대화동~신촌)</td>\n",
       "      <td>19702</td>\n",
       "      <td>DMC두산위브더퍼스트(00038)</td>\n",
       "      <td>217</td>\n",
       "      <td>45</td>\n",
       "      <td>20240804</td>\n",
       "    </tr>\n",
       "    <tr>\n",
       "      <th>2</th>\n",
       "      <td>20240801</td>\n",
       "      <td>7728</td>\n",
       "      <td>7728번(대화동~신촌)</td>\n",
       "      <td>19701</td>\n",
       "      <td>DMC두산위브더퍼스트(00071)</td>\n",
       "      <td>22</td>\n",
       "      <td>148</td>\n",
       "      <td>20240804</td>\n",
       "    </tr>\n",
       "    <tr>\n",
       "      <th>3</th>\n",
       "      <td>20240801</td>\n",
       "      <td>7728</td>\n",
       "      <td>7728번(대화동~신촌)</td>\n",
       "      <td>13259</td>\n",
       "      <td>현대백화점(00056)</td>\n",
       "      <td>125</td>\n",
       "      <td>78</td>\n",
       "      <td>20240804</td>\n",
       "    </tr>\n",
       "    <tr>\n",
       "      <th>4</th>\n",
       "      <td>20240801</td>\n",
       "      <td>7728</td>\n",
       "      <td>7728번(대화동~신촌)</td>\n",
       "      <td>13147</td>\n",
       "      <td>연희동대우아파트(00058)</td>\n",
       "      <td>118</td>\n",
       "      <td>33</td>\n",
       "      <td>20240804</td>\n",
       "    </tr>\n",
       "  </tbody>\n",
       "</table>\n",
       "</div>"
      ],
      "text/plain": [
       "       사용일자  노선번호             노선명 버스정류장ARS번호                  역명  승차총승객수  \\\n",
       "0  20240801   100  100번(하계동~용산구청)      01002  창경궁.서울대학교병원(00031)     123   \n",
       "1  20240801  7728   7728번(대화동~신촌)      19702  DMC두산위브더퍼스트(00038)     217   \n",
       "2  20240801  7728   7728번(대화동~신촌)      19701  DMC두산위브더퍼스트(00071)      22   \n",
       "3  20240801  7728   7728번(대화동~신촌)      13259        현대백화점(00056)     125   \n",
       "4  20240801  7728   7728번(대화동~신촌)      13147     연희동대우아파트(00058)     118   \n",
       "\n",
       "   하차총승객수      등록일자  \n",
       "0     134  20240804  \n",
       "1      45  20240804  \n",
       "2     148  20240804  \n",
       "3      78  20240804  \n",
       "4      33  20240804  "
      ]
     },
     "execution_count": 22,
     "metadata": {},
     "output_type": "execute_result"
    }
   ],
   "source": [
    "# 데이터 불러오기\n",
    "bus_station = pd.read_csv(path + '1.1 bus_station_boarding_month_202408.csv', sep=',', encoding='CP949')\n",
    "\n",
    "# 가상 정류장 삭제\n",
    "del_rows = list(bus_station[bus_station['버스정류장ARS번호'] == '~'].index)\n",
    "bus_station.drop(del_rows, axis=0, inplace=True)\n",
    "\n",
    "# 확인\n",
    "bus_station.head()"
   ]
  },
  {
   "cell_type": "code",
   "execution_count": 24,
   "id": "funny-subcommittee",
   "metadata": {
    "id": "funny-subcommittee",
    "tags": []
   },
   "outputs": [
    {
     "data": {
      "text/plain": [
       "(1165104, 8)"
      ]
     },
     "execution_count": 24,
     "metadata": {},
     "output_type": "execute_result"
    }
   ],
   "source": [
    "# 데이터프레임 크기(행, 열) 확인\n",
    "bus_station.shape"
   ]
  },
  {
   "cell_type": "markdown",
   "id": "6fd3a15d-e9fe-457e-8731-b77c0ecbb207",
   "metadata": {
    "id": "6fd3a15d-e9fe-457e-8731-b77c0ecbb207"
   },
   "source": [
    "---"
   ]
  },
  {
   "cell_type": "markdown",
   "id": "annoying-trout",
   "metadata": {
    "id": "annoying-trout"
   },
   "source": [
    "# 2. 기본 정보 확인 및 전처리\n",
    "\n",
    "- 분석 대상 테이터를 탐색하고 적절한 전처리를 수행합니다."
   ]
  },
  {
   "cell_type": "markdown",
   "id": "romantic-johnson",
   "metadata": {
    "id": "romantic-johnson"
   },
   "source": [
    "## [실습2] 기본 정보 확인\n",
    "\n",
    "- bus_station 데이터프레임 정보를 확인하세요.\n",
    "- head(), tail(), info(), describe() 메서드 등을 활용해 보세요."
   ]
  },
  {
   "cell_type": "code",
   "execution_count": 29,
   "id": "7343fadf",
   "metadata": {
    "id": "7343fadf",
    "tags": []
   },
   "outputs": [
    {
     "data": {
      "text/html": [
       "<div>\n",
       "<style scoped>\n",
       "    .dataframe tbody tr th:only-of-type {\n",
       "        vertical-align: middle;\n",
       "    }\n",
       "\n",
       "    .dataframe tbody tr th {\n",
       "        vertical-align: top;\n",
       "    }\n",
       "\n",
       "    .dataframe thead th {\n",
       "        text-align: right;\n",
       "    }\n",
       "</style>\n",
       "<table border=\"1\" class=\"dataframe\">\n",
       "  <thead>\n",
       "    <tr style=\"text-align: right;\">\n",
       "      <th></th>\n",
       "      <th>사용일자</th>\n",
       "      <th>노선번호</th>\n",
       "      <th>노선명</th>\n",
       "      <th>버스정류장ARS번호</th>\n",
       "      <th>역명</th>\n",
       "      <th>승차총승객수</th>\n",
       "      <th>하차총승객수</th>\n",
       "      <th>등록일자</th>\n",
       "    </tr>\n",
       "  </thead>\n",
       "  <tbody>\n",
       "    <tr>\n",
       "      <th>0</th>\n",
       "      <td>20240801</td>\n",
       "      <td>100</td>\n",
       "      <td>100번(하계동~용산구청)</td>\n",
       "      <td>01002</td>\n",
       "      <td>창경궁.서울대학교병원(00031)</td>\n",
       "      <td>123</td>\n",
       "      <td>134</td>\n",
       "      <td>20240804</td>\n",
       "    </tr>\n",
       "    <tr>\n",
       "      <th>1</th>\n",
       "      <td>20240801</td>\n",
       "      <td>7728</td>\n",
       "      <td>7728번(대화동~신촌)</td>\n",
       "      <td>19702</td>\n",
       "      <td>DMC두산위브더퍼스트(00038)</td>\n",
       "      <td>217</td>\n",
       "      <td>45</td>\n",
       "      <td>20240804</td>\n",
       "    </tr>\n",
       "    <tr>\n",
       "      <th>2</th>\n",
       "      <td>20240801</td>\n",
       "      <td>7728</td>\n",
       "      <td>7728번(대화동~신촌)</td>\n",
       "      <td>19701</td>\n",
       "      <td>DMC두산위브더퍼스트(00071)</td>\n",
       "      <td>22</td>\n",
       "      <td>148</td>\n",
       "      <td>20240804</td>\n",
       "    </tr>\n",
       "    <tr>\n",
       "      <th>3</th>\n",
       "      <td>20240801</td>\n",
       "      <td>7728</td>\n",
       "      <td>7728번(대화동~신촌)</td>\n",
       "      <td>13259</td>\n",
       "      <td>현대백화점(00056)</td>\n",
       "      <td>125</td>\n",
       "      <td>78</td>\n",
       "      <td>20240804</td>\n",
       "    </tr>\n",
       "    <tr>\n",
       "      <th>4</th>\n",
       "      <td>20240801</td>\n",
       "      <td>7728</td>\n",
       "      <td>7728번(대화동~신촌)</td>\n",
       "      <td>13147</td>\n",
       "      <td>연희동대우아파트(00058)</td>\n",
       "      <td>118</td>\n",
       "      <td>33</td>\n",
       "      <td>20240804</td>\n",
       "    </tr>\n",
       "  </tbody>\n",
       "</table>\n",
       "</div>"
      ],
      "text/plain": [
       "       사용일자  노선번호             노선명 버스정류장ARS번호                  역명  승차총승객수  \\\n",
       "0  20240801   100  100번(하계동~용산구청)      01002  창경궁.서울대학교병원(00031)     123   \n",
       "1  20240801  7728   7728번(대화동~신촌)      19702  DMC두산위브더퍼스트(00038)     217   \n",
       "2  20240801  7728   7728번(대화동~신촌)      19701  DMC두산위브더퍼스트(00071)      22   \n",
       "3  20240801  7728   7728번(대화동~신촌)      13259        현대백화점(00056)     125   \n",
       "4  20240801  7728   7728번(대화동~신촌)      13147     연희동대우아파트(00058)     118   \n",
       "\n",
       "   하차총승객수      등록일자  \n",
       "0     134  20240804  \n",
       "1      45  20240804  \n",
       "2     148  20240804  \n",
       "3      78  20240804  \n",
       "4      33  20240804  "
      ]
     },
     "execution_count": 29,
     "metadata": {},
     "output_type": "execute_result"
    }
   ],
   "source": [
    "# head() 메서드로 상위 데이터 확인\n",
    "bus_station.head()"
   ]
  },
  {
   "cell_type": "code",
   "execution_count": 31,
   "id": "7f77b32f",
   "metadata": {
    "id": "7f77b32f",
    "tags": []
   },
   "outputs": [
    {
     "data": {
      "text/html": [
       "<div>\n",
       "<style scoped>\n",
       "    .dataframe tbody tr th:only-of-type {\n",
       "        vertical-align: middle;\n",
       "    }\n",
       "\n",
       "    .dataframe tbody tr th {\n",
       "        vertical-align: top;\n",
       "    }\n",
       "\n",
       "    .dataframe thead th {\n",
       "        text-align: right;\n",
       "    }\n",
       "</style>\n",
       "<table border=\"1\" class=\"dataframe\">\n",
       "  <thead>\n",
       "    <tr style=\"text-align: right;\">\n",
       "      <th></th>\n",
       "      <th>사용일자</th>\n",
       "      <th>노선번호</th>\n",
       "      <th>노선명</th>\n",
       "      <th>버스정류장ARS번호</th>\n",
       "      <th>역명</th>\n",
       "      <th>승차총승객수</th>\n",
       "      <th>하차총승객수</th>\n",
       "      <th>등록일자</th>\n",
       "    </tr>\n",
       "  </thead>\n",
       "  <tbody>\n",
       "    <tr>\n",
       "      <th>1170229</th>\n",
       "      <td>20240831</td>\n",
       "      <td>3422</td>\n",
       "      <td>3422번(장지공영차고지~한티역)</td>\n",
       "      <td>24010</td>\n",
       "      <td>가락시장.가락시장역(00068)</td>\n",
       "      <td>29</td>\n",
       "      <td>116</td>\n",
       "      <td>20240903</td>\n",
       "    </tr>\n",
       "    <tr>\n",
       "      <th>1170230</th>\n",
       "      <td>20240831</td>\n",
       "      <td>753</td>\n",
       "      <td>753번(구산동~상도동)</td>\n",
       "      <td>13002</td>\n",
       "      <td>북가좌동삼거리(00084)</td>\n",
       "      <td>73</td>\n",
       "      <td>40</td>\n",
       "      <td>20240903</td>\n",
       "    </tr>\n",
       "    <tr>\n",
       "      <th>1170231</th>\n",
       "      <td>20240831</td>\n",
       "      <td>성북13</td>\n",
       "      <td>성북13(동방주택~석계역)</td>\n",
       "      <td>08451</td>\n",
       "      <td>동방주택(00028)</td>\n",
       "      <td>31</td>\n",
       "      <td>56</td>\n",
       "      <td>20240903</td>\n",
       "    </tr>\n",
       "    <tr>\n",
       "      <th>1170232</th>\n",
       "      <td>20240831</td>\n",
       "      <td>3422</td>\n",
       "      <td>3422번(장지공영차고지~한티역)</td>\n",
       "      <td>24011</td>\n",
       "      <td>문정로데오거리입구(00025)</td>\n",
       "      <td>33</td>\n",
       "      <td>42</td>\n",
       "      <td>20240903</td>\n",
       "    </tr>\n",
       "    <tr>\n",
       "      <th>1170233</th>\n",
       "      <td>20240831</td>\n",
       "      <td>107</td>\n",
       "      <td>107번(민락동차고지~종로5가)</td>\n",
       "      <td>08269</td>\n",
       "      <td>세아.보광.건영아파트앞(00102)</td>\n",
       "      <td>39</td>\n",
       "      <td>108</td>\n",
       "      <td>20240903</td>\n",
       "    </tr>\n",
       "  </tbody>\n",
       "</table>\n",
       "</div>"
      ],
      "text/plain": [
       "             사용일자  노선번호                 노선명 버스정류장ARS번호                   역명  \\\n",
       "1170229  20240831  3422  3422번(장지공영차고지~한티역)      24010    가락시장.가락시장역(00068)   \n",
       "1170230  20240831   753       753번(구산동~상도동)      13002       북가좌동삼거리(00084)   \n",
       "1170231  20240831  성북13      성북13(동방주택~석계역)      08451          동방주택(00028)   \n",
       "1170232  20240831  3422  3422번(장지공영차고지~한티역)      24011     문정로데오거리입구(00025)   \n",
       "1170233  20240831   107   107번(민락동차고지~종로5가)      08269  세아.보광.건영아파트앞(00102)   \n",
       "\n",
       "         승차총승객수  하차총승객수      등록일자  \n",
       "1170229      29     116  20240903  \n",
       "1170230      73      40  20240903  \n",
       "1170231      31      56  20240903  \n",
       "1170232      33      42  20240903  \n",
       "1170233      39     108  20240903  "
      ]
     },
     "execution_count": 31,
     "metadata": {},
     "output_type": "execute_result"
    }
   ],
   "source": [
    "# tail() 메서드로 하위 데이터 확인\n",
    "bus_station.tail()"
   ]
  },
  {
   "cell_type": "code",
   "execution_count": 33,
   "id": "demographic-battery",
   "metadata": {
    "id": "demographic-battery",
    "tags": []
   },
   "outputs": [
    {
     "name": "stdout",
     "output_type": "stream",
     "text": [
      "<class 'pandas.core.frame.DataFrame'>\n",
      "Index: 1165104 entries, 0 to 1170233\n",
      "Data columns (total 8 columns):\n",
      " #   Column      Non-Null Count    Dtype \n",
      "---  ------      --------------    ----- \n",
      " 0   사용일자        1165104 non-null  int64 \n",
      " 1   노선번호        1165104 non-null  object\n",
      " 2   노선명         1165104 non-null  object\n",
      " 3   버스정류장ARS번호  1165104 non-null  object\n",
      " 4   역명          1165104 non-null  object\n",
      " 5   승차총승객수      1165104 non-null  int64 \n",
      " 6   하차총승객수      1165104 non-null  int64 \n",
      " 7   등록일자        1165104 non-null  int64 \n",
      "dtypes: int64(4), object(4)\n",
      "memory usage: 80.0+ MB\n"
     ]
    }
   ],
   "source": [
    "# info() 메서드로 열 이름, 데이터 개수, 데이터 형식 등 확인\n",
    "bus_station.info()"
   ]
  },
  {
   "cell_type": "code",
   "execution_count": 35,
   "id": "92834ef5-6aea-4019-8531-c536b9467eee",
   "metadata": {
    "id": "92834ef5-6aea-4019-8531-c536b9467eee"
   },
   "outputs": [],
   "source": [
    "# 표시 형식 변경\n",
    "pd.set_option('display.float_format', '{:.4f}'.format)"
   ]
  },
  {
   "cell_type": "code",
   "execution_count": 37,
   "id": "940a114a",
   "metadata": {
    "id": "940a114a",
    "tags": []
   },
   "outputs": [
    {
     "data": {
      "text/html": [
       "<div>\n",
       "<style scoped>\n",
       "    .dataframe tbody tr th:only-of-type {\n",
       "        vertical-align: middle;\n",
       "    }\n",
       "\n",
       "    .dataframe tbody tr th {\n",
       "        vertical-align: top;\n",
       "    }\n",
       "\n",
       "    .dataframe thead th {\n",
       "        text-align: right;\n",
       "    }\n",
       "</style>\n",
       "<table border=\"1\" class=\"dataframe\">\n",
       "  <thead>\n",
       "    <tr style=\"text-align: right;\">\n",
       "      <th></th>\n",
       "      <th>사용일자</th>\n",
       "      <th>승차총승객수</th>\n",
       "      <th>하차총승객수</th>\n",
       "      <th>등록일자</th>\n",
       "    </tr>\n",
       "  </thead>\n",
       "  <tbody>\n",
       "    <tr>\n",
       "      <th>count</th>\n",
       "      <td>1165104.0000</td>\n",
       "      <td>1165104.0000</td>\n",
       "      <td>1165104.0000</td>\n",
       "      <td>1165104.0000</td>\n",
       "    </tr>\n",
       "    <tr>\n",
       "      <th>mean</th>\n",
       "      <td>20240816.0110</td>\n",
       "      <td>116.5005</td>\n",
       "      <td>114.2709</td>\n",
       "      <td>20240825.7067</td>\n",
       "    </tr>\n",
       "    <tr>\n",
       "      <th>std</th>\n",
       "      <td>8.9479</td>\n",
       "      <td>159.1275</td>\n",
       "      <td>144.4570</td>\n",
       "      <td>26.1626</td>\n",
       "    </tr>\n",
       "    <tr>\n",
       "      <th>min</th>\n",
       "      <td>20240801.0000</td>\n",
       "      <td>0.0000</td>\n",
       "      <td>0.0000</td>\n",
       "      <td>20240804.0000</td>\n",
       "    </tr>\n",
       "    <tr>\n",
       "      <th>25%</th>\n",
       "      <td>20240808.0000</td>\n",
       "      <td>18.0000</td>\n",
       "      <td>21.0000</td>\n",
       "      <td>20240811.0000</td>\n",
       "    </tr>\n",
       "    <tr>\n",
       "      <th>50%</th>\n",
       "      <td>20240816.0000</td>\n",
       "      <td>69.0000</td>\n",
       "      <td>74.0000</td>\n",
       "      <td>20240819.0000</td>\n",
       "    </tr>\n",
       "    <tr>\n",
       "      <th>75%</th>\n",
       "      <td>20240824.0000</td>\n",
       "      <td>156.0000</td>\n",
       "      <td>155.0000</td>\n",
       "      <td>20240827.0000</td>\n",
       "    </tr>\n",
       "    <tr>\n",
       "      <th>max</th>\n",
       "      <td>20240831.0000</td>\n",
       "      <td>4494.0000</td>\n",
       "      <td>3496.0000</td>\n",
       "      <td>20240903.0000</td>\n",
       "    </tr>\n",
       "  </tbody>\n",
       "</table>\n",
       "</div>"
      ],
      "text/plain": [
       "               사용일자       승차총승객수       하차총승객수          등록일자\n",
       "count  1165104.0000 1165104.0000 1165104.0000  1165104.0000\n",
       "mean  20240816.0110     116.5005     114.2709 20240825.7067\n",
       "std          8.9479     159.1275     144.4570       26.1626\n",
       "min   20240801.0000       0.0000       0.0000 20240804.0000\n",
       "25%   20240808.0000      18.0000      21.0000 20240811.0000\n",
       "50%   20240816.0000      69.0000      74.0000 20240819.0000\n",
       "75%   20240824.0000     156.0000     155.0000 20240827.0000\n",
       "max   20240831.0000    4494.0000    3496.0000 20240903.0000"
      ]
     },
     "execution_count": 37,
     "metadata": {},
     "output_type": "execute_result"
    }
   ],
   "source": [
    "# describe() 메서드로 기술통계정보 확인\n",
    "bus_station.describe()"
   ]
  },
  {
   "cell_type": "code",
   "execution_count": 39,
   "id": "8593d19c-9b86-4e07-83d9-cea8f6e3f936",
   "metadata": {
    "id": "8593d19c-9b86-4e07-83d9-cea8f6e3f936",
    "tags": []
   },
   "outputs": [],
   "source": [
    "# 표시 형식 초기화\n",
    "pd.reset_option('display.float_format')"
   ]
  },
  {
   "cell_type": "markdown",
   "id": "f26c27a6",
   "metadata": {
    "id": "f26c27a6"
   },
   "source": [
    "## [실습3] 버스정류장 위치를 구별로 구분\n",
    "\n",
    "- '버스정류장ARS번호' 열의 값 앞 2자리가 구를 의미합니다.(예:  '01002'의 앞 2자리 '01')\n",
    "- '버스정류장ARS번호' 열의 값 앞 2자리를 갖는 '자치구' 열을 추가하세요.\n",
    "- 참고로, 자치구는 각 정류장이 위치한 구 이름입니다."
   ]
  },
  {
   "cell_type": "code",
   "execution_count": 42,
   "id": "98e2fc76",
   "metadata": {
    "id": "98e2fc76",
    "tags": []
   },
   "outputs": [
    {
     "data": {
      "text/plain": [
       "0          01002\n",
       "1          19702\n",
       "2          19701\n",
       "3          13259\n",
       "4          13147\n",
       "           ...  \n",
       "1170229    24010\n",
       "1170230    13002\n",
       "1170231    08451\n",
       "1170232    24011\n",
       "1170233    08269\n",
       "Name: 버스정류장ARS번호, Length: 1165104, dtype: object"
      ]
     },
     "execution_count": 42,
     "metadata": {},
     "output_type": "execute_result"
    }
   ],
   "source": [
    "# '버스정류장ARS번호' 열 확인\n",
    "bus_station['버스정류장ARS번호']"
   ]
  },
  {
   "cell_type": "code",
   "execution_count": 44,
   "id": "056437b2",
   "metadata": {
    "id": "056437b2",
    "tags": []
   },
   "outputs": [
    {
     "data": {
      "text/plain": [
       "0          01\n",
       "1          19\n",
       "2          19\n",
       "3          13\n",
       "4          13\n",
       "           ..\n",
       "1170229    24\n",
       "1170230    13\n",
       "1170231    08\n",
       "1170232    24\n",
       "1170233    08\n",
       "Name: 자치구, Length: 1165104, dtype: object"
      ]
     },
     "execution_count": 44,
     "metadata": {},
     "output_type": "execute_result"
    }
   ],
   "source": [
    "# '자치구' 열 추가\n",
    "# 참고: df['새열'] = df['기존열'].str[m:n] 형태로 슬라이싱\n",
    "bus_station['자치구']=bus_station['버스정류장ARS번호'].str[0:2]\n",
    "\n",
    "# 확인\n",
    "bus_station['자치구']"
   ]
  },
  {
   "cell_type": "markdown",
   "id": "1e97c502",
   "metadata": {
    "id": "1e97c502"
   },
   "source": [
    "**[참고] 버스정류장 ARS 번호: 01~25까지 앞 숫자 두개가 위치한 구를 의미**\n",
    "\n",
    "~~~\n",
    "01. 종로구  02. 중구    03. 용산구  04. 성동구  05. 광진구    06. 동대문구  07. 중랑구\n",
    "08. 성북구  09. 강북구  10. 도봉구  11. 노원구  12. 은평구    13. 서대문구  14. 마포구\n",
    "15. 양천구  16. 강서구  17. 구로구  18. 금천구  19. 영등포구  20. 동작구    21. 관악구\n",
    "22. 서초구  23. 강남구  24. 송파구  25. 강동구\n",
    "~~~"
   ]
  },
  {
   "cell_type": "markdown",
   "id": "6abf6070-6c4a-4352-902e-8b398b6999a7",
   "metadata": {
    "id": "6abf6070-6c4a-4352-902e-8b398b6999a7"
   },
   "source": [
    "- 다음 코드를 필히 실행하여 구 코드를 구 이름으로 변경하세요."
   ]
  },
  {
   "cell_type": "code",
   "execution_count": 48,
   "id": "e6a4256b",
   "metadata": {
    "id": "e6a4256b",
    "tags": []
   },
   "outputs": [
    {
     "data": {
      "text/html": [
       "<div>\n",
       "<style scoped>\n",
       "    .dataframe tbody tr th:only-of-type {\n",
       "        vertical-align: middle;\n",
       "    }\n",
       "\n",
       "    .dataframe tbody tr th {\n",
       "        vertical-align: top;\n",
       "    }\n",
       "\n",
       "    .dataframe thead th {\n",
       "        text-align: right;\n",
       "    }\n",
       "</style>\n",
       "<table border=\"1\" class=\"dataframe\">\n",
       "  <thead>\n",
       "    <tr style=\"text-align: right;\">\n",
       "      <th></th>\n",
       "      <th>사용일자</th>\n",
       "      <th>노선번호</th>\n",
       "      <th>노선명</th>\n",
       "      <th>버스정류장ARS번호</th>\n",
       "      <th>역명</th>\n",
       "      <th>승차총승객수</th>\n",
       "      <th>하차총승객수</th>\n",
       "      <th>등록일자</th>\n",
       "      <th>자치구</th>\n",
       "    </tr>\n",
       "  </thead>\n",
       "  <tbody>\n",
       "    <tr>\n",
       "      <th>0</th>\n",
       "      <td>20240801</td>\n",
       "      <td>100</td>\n",
       "      <td>100번(하계동~용산구청)</td>\n",
       "      <td>1002</td>\n",
       "      <td>창경궁.서울대학교병원(00031)</td>\n",
       "      <td>123</td>\n",
       "      <td>134</td>\n",
       "      <td>20240804</td>\n",
       "      <td>종로구</td>\n",
       "    </tr>\n",
       "    <tr>\n",
       "      <th>1</th>\n",
       "      <td>20240801</td>\n",
       "      <td>7728</td>\n",
       "      <td>7728번(대화동~신촌)</td>\n",
       "      <td>19702</td>\n",
       "      <td>DMC두산위브더퍼스트(00038)</td>\n",
       "      <td>217</td>\n",
       "      <td>45</td>\n",
       "      <td>20240804</td>\n",
       "      <td>영등포구</td>\n",
       "    </tr>\n",
       "    <tr>\n",
       "      <th>2</th>\n",
       "      <td>20240801</td>\n",
       "      <td>7728</td>\n",
       "      <td>7728번(대화동~신촌)</td>\n",
       "      <td>19701</td>\n",
       "      <td>DMC두산위브더퍼스트(00071)</td>\n",
       "      <td>22</td>\n",
       "      <td>148</td>\n",
       "      <td>20240804</td>\n",
       "      <td>영등포구</td>\n",
       "    </tr>\n",
       "    <tr>\n",
       "      <th>3</th>\n",
       "      <td>20240801</td>\n",
       "      <td>7728</td>\n",
       "      <td>7728번(대화동~신촌)</td>\n",
       "      <td>13259</td>\n",
       "      <td>현대백화점(00056)</td>\n",
       "      <td>125</td>\n",
       "      <td>78</td>\n",
       "      <td>20240804</td>\n",
       "      <td>서대문구</td>\n",
       "    </tr>\n",
       "    <tr>\n",
       "      <th>4</th>\n",
       "      <td>20240801</td>\n",
       "      <td>7728</td>\n",
       "      <td>7728번(대화동~신촌)</td>\n",
       "      <td>13147</td>\n",
       "      <td>연희동대우아파트(00058)</td>\n",
       "      <td>118</td>\n",
       "      <td>33</td>\n",
       "      <td>20240804</td>\n",
       "      <td>서대문구</td>\n",
       "    </tr>\n",
       "  </tbody>\n",
       "</table>\n",
       "</div>"
      ],
      "text/plain": [
       "       사용일자  노선번호             노선명  버스정류장ARS번호                  역명  승차총승객수  \\\n",
       "0  20240801   100  100번(하계동~용산구청)        1002  창경궁.서울대학교병원(00031)     123   \n",
       "1  20240801  7728   7728번(대화동~신촌)       19702  DMC두산위브더퍼스트(00038)     217   \n",
       "2  20240801  7728   7728번(대화동~신촌)       19701  DMC두산위브더퍼스트(00071)      22   \n",
       "3  20240801  7728   7728번(대화동~신촌)       13259        현대백화점(00056)     125   \n",
       "4  20240801  7728   7728번(대화동~신촌)       13147     연희동대우아파트(00058)     118   \n",
       "\n",
       "   하차총승객수      등록일자   자치구  \n",
       "0     134  20240804   종로구  \n",
       "1      45  20240804  영등포구  \n",
       "2     148  20240804  영등포구  \n",
       "3      78  20240804  서대문구  \n",
       "4      33  20240804  서대문구  "
      ]
     },
     "execution_count": 48,
     "metadata": {},
     "output_type": "execute_result"
    }
   ],
   "source": [
    "# 구 코드를 구 이름으로 변경\n",
    "bus_station['자치구'] = bus_station['자치구'].map({\n",
    "    '01': '종로구', '02': '중구',   '03': '용산구', '04': '성동구', '05': '광진구',   '06': '동대문구', '07': '중랑구',\n",
    "    '08': '성북구', '09': '강북구', '10': '도봉구', '11': '노원구', '12': '은평구',   '13': '서대문구', '14': '마포구',\n",
    "    '15': '양천구', '16': '강서구', '17': '구로구', '18': '금천구', '19': '영등포구', '20': '동작구',   '21': '관악구',\n",
    "    '22': '서초구', '23': '강남구', '24': '송파구', '25': '강동구'})\n",
    "\n",
    "# '버스정류장ARS번호' 열 데이터 형식 변경\n",
    "bus_station['버스정류장ARS번호'] = bus_station['버스정류장ARS번호'].astype(int)\n",
    "\n",
    "# 확인\n",
    "bus_station.head()"
   ]
  },
  {
   "cell_type": "markdown",
   "id": "003322b3",
   "metadata": {
    "id": "003322b3"
   },
   "source": [
    "## [실습4] 서울지역 데이터 준비\n",
    "\n",
    "- bus_station 데이터프레임에는 서울 지역 외의 버스정류장이 포함되어 있습니다.\n",
    "- 예를 들어 다음과 같이 '버스정류장ARS번호' 열 값이 7674 인 행을 검색하면 조회가 됩니다.\n",
    "- 하지만 네이버 지도에서 7674번 버스 정류장을 검색해 보세요. 이 정류장은 서울 지역이 아닙니다."
   ]
  },
  {
   "cell_type": "code",
   "execution_count": 51,
   "id": "3b2e0822-ae2d-4d20-989c-fea0b4a683b1",
   "metadata": {
    "id": "3b2e0822-ae2d-4d20-989c-fea0b4a683b1"
   },
   "outputs": [
    {
     "data": {
      "text/html": [
       "<div>\n",
       "<style scoped>\n",
       "    .dataframe tbody tr th:only-of-type {\n",
       "        vertical-align: middle;\n",
       "    }\n",
       "\n",
       "    .dataframe tbody tr th {\n",
       "        vertical-align: top;\n",
       "    }\n",
       "\n",
       "    .dataframe thead th {\n",
       "        text-align: right;\n",
       "    }\n",
       "</style>\n",
       "<table border=\"1\" class=\"dataframe\">\n",
       "  <thead>\n",
       "    <tr style=\"text-align: right;\">\n",
       "      <th></th>\n",
       "      <th>사용일자</th>\n",
       "      <th>노선번호</th>\n",
       "      <th>노선명</th>\n",
       "      <th>버스정류장ARS번호</th>\n",
       "      <th>역명</th>\n",
       "      <th>승차총승객수</th>\n",
       "      <th>하차총승객수</th>\n",
       "      <th>등록일자</th>\n",
       "      <th>자치구</th>\n",
       "    </tr>\n",
       "  </thead>\n",
       "  <tbody>\n",
       "    <tr>\n",
       "      <th>190830</th>\n",
       "      <td>20240806</td>\n",
       "      <td>9409</td>\n",
       "      <td>9409번(구미동차고지~신사역)</td>\n",
       "      <td>7674</td>\n",
       "      <td>이우중고(00005)</td>\n",
       "      <td>1</td>\n",
       "      <td>0</td>\n",
       "      <td>20240809</td>\n",
       "      <td>중랑구</td>\n",
       "    </tr>\n",
       "    <tr>\n",
       "      <th>304889</th>\n",
       "      <td>20240809</td>\n",
       "      <td>9409</td>\n",
       "      <td>9409번(구미동차고지~신사역)</td>\n",
       "      <td>7674</td>\n",
       "      <td>이우중고(00005)</td>\n",
       "      <td>1</td>\n",
       "      <td>0</td>\n",
       "      <td>20240812</td>\n",
       "      <td>중랑구</td>\n",
       "    </tr>\n",
       "    <tr>\n",
       "      <th>342468</th>\n",
       "      <td>20240810</td>\n",
       "      <td>9409</td>\n",
       "      <td>9409번(구미동차고지~신사역)</td>\n",
       "      <td>7674</td>\n",
       "      <td>이우중고(00005)</td>\n",
       "      <td>0</td>\n",
       "      <td>2</td>\n",
       "      <td>20240813</td>\n",
       "      <td>중랑구</td>\n",
       "    </tr>\n",
       "    <tr>\n",
       "      <th>417226</th>\n",
       "      <td>20240812</td>\n",
       "      <td>9409</td>\n",
       "      <td>9409번(구미동차고지~신사역)</td>\n",
       "      <td>7674</td>\n",
       "      <td>이우중고(00005)</td>\n",
       "      <td>2</td>\n",
       "      <td>0</td>\n",
       "      <td>20240815</td>\n",
       "      <td>중랑구</td>\n",
       "    </tr>\n",
       "    <tr>\n",
       "      <th>568426</th>\n",
       "      <td>20240816</td>\n",
       "      <td>9409</td>\n",
       "      <td>9409번(구미동차고지~신사역)</td>\n",
       "      <td>7674</td>\n",
       "      <td>이우중고(00005)</td>\n",
       "      <td>0</td>\n",
       "      <td>1</td>\n",
       "      <td>20240819</td>\n",
       "      <td>중랑구</td>\n",
       "    </tr>\n",
       "  </tbody>\n",
       "</table>\n",
       "</div>"
      ],
      "text/plain": [
       "            사용일자  노선번호                노선명  버스정류장ARS번호           역명  승차총승객수  \\\n",
       "190830  20240806  9409  9409번(구미동차고지~신사역)        7674  이우중고(00005)       1   \n",
       "304889  20240809  9409  9409번(구미동차고지~신사역)        7674  이우중고(00005)       1   \n",
       "342468  20240810  9409  9409번(구미동차고지~신사역)        7674  이우중고(00005)       0   \n",
       "417226  20240812  9409  9409번(구미동차고지~신사역)        7674  이우중고(00005)       2   \n",
       "568426  20240816  9409  9409번(구미동차고지~신사역)        7674  이우중고(00005)       0   \n",
       "\n",
       "        하차총승객수      등록일자  자치구  \n",
       "190830       0  20240809  중랑구  \n",
       "304889       0  20240812  중랑구  \n",
       "342468       2  20240813  중랑구  \n",
       "417226       0  20240815  중랑구  \n",
       "568426       1  20240819  중랑구  "
      ]
     },
     "execution_count": 51,
     "metadata": {},
     "output_type": "execute_result"
    }
   ],
   "source": [
    "# 7674 번 정류장 검색\n",
    "bus_station.loc[bus_station['버스정류장ARS번호'] == 7674].head()"
   ]
  },
  {
   "cell_type": "markdown",
   "id": "c49cbb53-f836-4cbd-9539-8fdb014754ca",
   "metadata": {
    "id": "c49cbb53-f836-4cbd-9539-8fdb014754ca"
   },
   "source": [
    "- 1.1 bus_station_202408.xlsx 엑셀 파일에 서울지역 만의 정류장 정보가 포함되어 있습니다.\n",
    "- 파일을 읽어와 only_seoul 데이터프레임으로 선언하세요."
   ]
  },
  {
   "cell_type": "code",
   "execution_count": 56,
   "id": "0753a1e1",
   "metadata": {
    "id": "0753a1e1",
    "tags": []
   },
   "outputs": [
    {
     "data": {
      "text/html": [
       "<div>\n",
       "<style scoped>\n",
       "    .dataframe tbody tr th:only-of-type {\n",
       "        vertical-align: middle;\n",
       "    }\n",
       "\n",
       "    .dataframe tbody tr th {\n",
       "        vertical-align: top;\n",
       "    }\n",
       "\n",
       "    .dataframe thead th {\n",
       "        text-align: right;\n",
       "    }\n",
       "</style>\n",
       "<table border=\"1\" class=\"dataframe\">\n",
       "  <thead>\n",
       "    <tr style=\"text-align: right;\">\n",
       "      <th></th>\n",
       "      <th>ARS_ID</th>\n",
       "      <th>정류소명</th>\n",
       "    </tr>\n",
       "  </thead>\n",
       "  <tbody>\n",
       "    <tr>\n",
       "      <th>0</th>\n",
       "      <td>1001</td>\n",
       "      <td>종로2가사거리</td>\n",
       "    </tr>\n",
       "    <tr>\n",
       "      <th>1</th>\n",
       "      <td>1002</td>\n",
       "      <td>창경궁.서울대학교병원</td>\n",
       "    </tr>\n",
       "    <tr>\n",
       "      <th>2</th>\n",
       "      <td>1003</td>\n",
       "      <td>명륜3가.성대입구</td>\n",
       "    </tr>\n",
       "    <tr>\n",
       "      <th>3</th>\n",
       "      <td>1004</td>\n",
       "      <td>종로2가.삼일교</td>\n",
       "    </tr>\n",
       "    <tr>\n",
       "      <th>4</th>\n",
       "      <td>1005</td>\n",
       "      <td>혜화동로터리.여운형활동터</td>\n",
       "    </tr>\n",
       "  </tbody>\n",
       "</table>\n",
       "</div>"
      ],
      "text/plain": [
       "   ARS_ID           정류소명\n",
       "0    1001        종로2가사거리\n",
       "1    1002    창경궁.서울대학교병원\n",
       "2    1003      명륜3가.성대입구\n",
       "3    1004       종로2가.삼일교\n",
       "4    1005  혜화동로터리.여운형활동터"
      ]
     },
     "execution_count": 56,
     "metadata": {},
     "output_type": "execute_result"
    }
   ],
   "source": [
    "# 서울 버스 정류장 데이터 불러오기\n",
    "# 참고: read_excel() 메서드 사용\n",
    "only_seoul = pd.read_excel(path +'1.1 bus_station_202408.xlsx')\n",
    "\n",
    "# 확인\n",
    "only_seoul.head()"
   ]
  },
  {
   "cell_type": "markdown",
   "id": "b9f1ac70-ed8c-4849-9574-fc93c503546c",
   "metadata": {
    "id": "b9f1ac70-ed8c-4849-9574-fc93c503546c"
   },
   "source": [
    "- only_seoul 데이터프레임의 'ARS-ID' 열 이름을 '버스정류장ARS번호'로 변경하세요."
   ]
  },
  {
   "cell_type": "code",
   "execution_count": 59,
   "id": "9ba67b7a-61f4-450b-8fc6-45ae1dcc9231",
   "metadata": {
    "id": "9ba67b7a-61f4-450b-8fc6-45ae1dcc9231",
    "tags": []
   },
   "outputs": [
    {
     "data": {
      "text/html": [
       "<div>\n",
       "<style scoped>\n",
       "    .dataframe tbody tr th:only-of-type {\n",
       "        vertical-align: middle;\n",
       "    }\n",
       "\n",
       "    .dataframe tbody tr th {\n",
       "        vertical-align: top;\n",
       "    }\n",
       "\n",
       "    .dataframe thead th {\n",
       "        text-align: right;\n",
       "    }\n",
       "</style>\n",
       "<table border=\"1\" class=\"dataframe\">\n",
       "  <thead>\n",
       "    <tr style=\"text-align: right;\">\n",
       "      <th></th>\n",
       "      <th>버스정류장ARS번호</th>\n",
       "      <th>정류소명</th>\n",
       "    </tr>\n",
       "  </thead>\n",
       "  <tbody>\n",
       "    <tr>\n",
       "      <th>0</th>\n",
       "      <td>1001</td>\n",
       "      <td>종로2가사거리</td>\n",
       "    </tr>\n",
       "    <tr>\n",
       "      <th>1</th>\n",
       "      <td>1002</td>\n",
       "      <td>창경궁.서울대학교병원</td>\n",
       "    </tr>\n",
       "    <tr>\n",
       "      <th>2</th>\n",
       "      <td>1003</td>\n",
       "      <td>명륜3가.성대입구</td>\n",
       "    </tr>\n",
       "    <tr>\n",
       "      <th>3</th>\n",
       "      <td>1004</td>\n",
       "      <td>종로2가.삼일교</td>\n",
       "    </tr>\n",
       "    <tr>\n",
       "      <th>4</th>\n",
       "      <td>1005</td>\n",
       "      <td>혜화동로터리.여운형활동터</td>\n",
       "    </tr>\n",
       "  </tbody>\n",
       "</table>\n",
       "</div>"
      ],
      "text/plain": [
       "   버스정류장ARS번호           정류소명\n",
       "0        1001        종로2가사거리\n",
       "1        1002    창경궁.서울대학교병원\n",
       "2        1003      명륜3가.성대입구\n",
       "3        1004       종로2가.삼일교\n",
       "4        1005  혜화동로터리.여운형활동터"
      ]
     },
     "execution_count": 59,
     "metadata": {},
     "output_type": "execute_result"
    }
   ],
   "source": [
    "# 열 이름 변경: 'ARS-ID ' --> '버스정류장ARS번호'\n",
    "# 참고: rename() 메서드 사용\n",
    "only_seoul.rename(columns={'ARS_ID': '버스정류장ARS번호'}, inplace=True)\n",
    "\n",
    "# 확인\n",
    "only_seoul.head()"
   ]
  },
  {
   "cell_type": "code",
   "execution_count": 61,
   "id": "8fbab316-7db6-4ee4-9c51-7eb8bc4fe038",
   "metadata": {},
   "outputs": [
    {
     "data": {
      "text/plain": [
       "Index(['버스정류장ARS번호', '정류소명'], dtype='object')"
      ]
     },
     "execution_count": 61,
     "metadata": {},
     "output_type": "execute_result"
    }
   ],
   "source": [
    "only_seoul.columns"
   ]
  },
  {
   "cell_type": "markdown",
   "id": "9253bdb1-c0fe-42b4-ac0d-24004b902bd7",
   "metadata": {
    "id": "9253bdb1-c0fe-42b4-ac0d-24004b902bd7"
   },
   "source": [
    "- only_seoul, bus_station 두 데이터프레임을 조인(merge)하세요.\n",
    "- 조인 결과를 tmp 데이터프레임으로 선언하세요."
   ]
  },
  {
   "cell_type": "code",
   "execution_count": 64,
   "id": "75b114c8",
   "metadata": {
    "id": "75b114c8",
    "tags": []
   },
   "outputs": [
    {
     "data": {
      "text/html": [
       "<div>\n",
       "<style scoped>\n",
       "    .dataframe tbody tr th:only-of-type {\n",
       "        vertical-align: middle;\n",
       "    }\n",
       "\n",
       "    .dataframe tbody tr th {\n",
       "        vertical-align: top;\n",
       "    }\n",
       "\n",
       "    .dataframe thead th {\n",
       "        text-align: right;\n",
       "    }\n",
       "</style>\n",
       "<table border=\"1\" class=\"dataframe\">\n",
       "  <thead>\n",
       "    <tr style=\"text-align: right;\">\n",
       "      <th></th>\n",
       "      <th>버스정류장ARS번호</th>\n",
       "      <th>정류소명</th>\n",
       "      <th>사용일자</th>\n",
       "      <th>노선번호</th>\n",
       "      <th>노선명</th>\n",
       "      <th>역명</th>\n",
       "      <th>승차총승객수</th>\n",
       "      <th>하차총승객수</th>\n",
       "      <th>등록일자</th>\n",
       "      <th>자치구</th>\n",
       "    </tr>\n",
       "  </thead>\n",
       "  <tbody>\n",
       "    <tr>\n",
       "      <th>0</th>\n",
       "      <td>1001</td>\n",
       "      <td>종로2가사거리</td>\n",
       "      <td>20240801</td>\n",
       "      <td>N37</td>\n",
       "      <td>N37번(송파공영차고지~진관공영차고지)</td>\n",
       "      <td>종로2가사거리(00032)</td>\n",
       "      <td>15</td>\n",
       "      <td>26</td>\n",
       "      <td>20240804</td>\n",
       "      <td>종로구</td>\n",
       "    </tr>\n",
       "    <tr>\n",
       "      <th>1</th>\n",
       "      <td>1001</td>\n",
       "      <td>종로2가사거리</td>\n",
       "      <td>20240801</td>\n",
       "      <td>N37</td>\n",
       "      <td>N37번(진관공영차고지~송파공영차고지)</td>\n",
       "      <td>종로2가사거리(00089)</td>\n",
       "      <td>13</td>\n",
       "      <td>11</td>\n",
       "      <td>20240804</td>\n",
       "      <td>종로구</td>\n",
       "    </tr>\n",
       "    <tr>\n",
       "      <th>2</th>\n",
       "      <td>1001</td>\n",
       "      <td>종로2가사거리</td>\n",
       "      <td>20240801</td>\n",
       "      <td>470</td>\n",
       "      <td>470번(상암차고지~안골마을)</td>\n",
       "      <td>종로2가사거리(00066)</td>\n",
       "      <td>296</td>\n",
       "      <td>288</td>\n",
       "      <td>20240804</td>\n",
       "      <td>종로구</td>\n",
       "    </tr>\n",
       "    <tr>\n",
       "      <th>3</th>\n",
       "      <td>1001</td>\n",
       "      <td>종로2가사거리</td>\n",
       "      <td>20240801</td>\n",
       "      <td>741</td>\n",
       "      <td>741번(진관차고지~헌인릉입구)</td>\n",
       "      <td>종로2가사거리(00075)</td>\n",
       "      <td>259</td>\n",
       "      <td>293</td>\n",
       "      <td>20240804</td>\n",
       "      <td>종로구</td>\n",
       "    </tr>\n",
       "    <tr>\n",
       "      <th>4</th>\n",
       "      <td>1001</td>\n",
       "      <td>종로2가사거리</td>\n",
       "      <td>20240802</td>\n",
       "      <td>N37</td>\n",
       "      <td>N37번(송파공영차고지~진관공영차고지)</td>\n",
       "      <td>종로2가사거리(00032)</td>\n",
       "      <td>12</td>\n",
       "      <td>5</td>\n",
       "      <td>20240805</td>\n",
       "      <td>종로구</td>\n",
       "    </tr>\n",
       "  </tbody>\n",
       "</table>\n",
       "</div>"
      ],
      "text/plain": [
       "   버스정류장ARS번호     정류소명      사용일자 노선번호                    노선명              역명  \\\n",
       "0        1001  종로2가사거리  20240801  N37  N37번(송파공영차고지~진관공영차고지)  종로2가사거리(00032)   \n",
       "1        1001  종로2가사거리  20240801  N37  N37번(진관공영차고지~송파공영차고지)  종로2가사거리(00089)   \n",
       "2        1001  종로2가사거리  20240801  470       470번(상암차고지~안골마을)  종로2가사거리(00066)   \n",
       "3        1001  종로2가사거리  20240801  741      741번(진관차고지~헌인릉입구)  종로2가사거리(00075)   \n",
       "4        1001  종로2가사거리  20240802  N37  N37번(송파공영차고지~진관공영차고지)  종로2가사거리(00032)   \n",
       "\n",
       "   승차총승객수  하차총승객수      등록일자  자치구  \n",
       "0      15      26  20240804  종로구  \n",
       "1      13      11  20240804  종로구  \n",
       "2     296     288  20240804  종로구  \n",
       "3     259     293  20240804  종로구  \n",
       "4      12       5  20240805  종로구  "
      ]
     },
     "execution_count": 64,
     "metadata": {},
     "output_type": "execute_result"
    }
   ],
   "source": [
    "# only_seoul, bus_station 데이터프레임 조인\n",
    "# 참고: '버스정류장ARS번호' 열이 조인 기준, how='inner' 지정\n",
    "tmp=pd.merge(only_seoul,bus_station,how='inner',on='버스정류장ARS번호')\n",
    "tmp.head()"
   ]
  },
  {
   "cell_type": "markdown",
   "id": "6d827beb-8cad-43b1-8273-aaf987e8d80d",
   "metadata": {
    "id": "6d827beb-8cad-43b1-8273-aaf987e8d80d"
   },
   "source": [
    "---\n",
    "### <font color=\"red\">[주의] </font> 실습5부터 실습8까지는 tmp 데이터프레임을 대상으로 집계를 수행합니다.\n",
    "---"
   ]
  },
  {
   "cell_type": "markdown",
   "id": "4ee95825-d091-4e70-9b35-0d0a61bdf47f",
   "metadata": {
    "id": "4ee95825-d091-4e70-9b35-0d0a61bdf47f"
   },
   "source": [
    "## [실습5] 구별 버스정류장 개수 확인\n",
    "\n",
    "- 자치구별 '버스정류장ARS번호' 개수를 집계하세요.\n",
    "- 집계 결과를 seoul_bus_station_ars 데이터프레임으로 선언하세요."
   ]
  },
  {
   "cell_type": "code",
   "execution_count": 68,
   "id": "62dbb217",
   "metadata": {
    "id": "62dbb217",
    "tags": []
   },
   "outputs": [
    {
     "data": {
      "text/html": [
       "<div>\n",
       "<style scoped>\n",
       "    .dataframe tbody tr th:only-of-type {\n",
       "        vertical-align: middle;\n",
       "    }\n",
       "\n",
       "    .dataframe tbody tr th {\n",
       "        vertical-align: top;\n",
       "    }\n",
       "\n",
       "    .dataframe thead th {\n",
       "        text-align: right;\n",
       "    }\n",
       "</style>\n",
       "<table border=\"1\" class=\"dataframe\">\n",
       "  <thead>\n",
       "    <tr style=\"text-align: right;\">\n",
       "      <th></th>\n",
       "      <th>자치구</th>\n",
       "      <th>버스정류장ARS번호</th>\n",
       "    </tr>\n",
       "  </thead>\n",
       "  <tbody>\n",
       "    <tr>\n",
       "      <th>0</th>\n",
       "      <td>강남구</td>\n",
       "      <td>502</td>\n",
       "    </tr>\n",
       "    <tr>\n",
       "      <th>1</th>\n",
       "      <td>강동구</td>\n",
       "      <td>376</td>\n",
       "    </tr>\n",
       "    <tr>\n",
       "      <th>2</th>\n",
       "      <td>강북구</td>\n",
       "      <td>410</td>\n",
       "    </tr>\n",
       "    <tr>\n",
       "      <th>3</th>\n",
       "      <td>강서구</td>\n",
       "      <td>565</td>\n",
       "    </tr>\n",
       "    <tr>\n",
       "      <th>4</th>\n",
       "      <td>관악구</td>\n",
       "      <td>465</td>\n",
       "    </tr>\n",
       "  </tbody>\n",
       "</table>\n",
       "</div>"
      ],
      "text/plain": [
       "   자치구  버스정류장ARS번호\n",
       "0  강남구         502\n",
       "1  강동구         376\n",
       "2  강북구         410\n",
       "3  강서구         565\n",
       "4  관악구         465"
      ]
     },
     "execution_count": 68,
     "metadata": {},
     "output_type": "execute_result"
    }
   ],
   "source": [
    "# 자치구별 '버스정류장ARS번호' 개수 집계 --> seoul_bus_station_ars 데이터프레임으로 선언\n",
    "# 참고: groupby() 메서드 사용, as_index=False 지정, nunique() 집계\n",
    "seoul_bus_station_ars=tmp.groupby(['자치구'],as_index=False)['버스정류장ARS번호'].nunique()\n",
    "# 확인\n",
    "seoul_bus_station_ars.head()"
   ]
  },
  {
   "cell_type": "markdown",
   "id": "5f6a3624-2b5e-4f78-93ab-e8416b79efac",
   "metadata": {
    "id": "5f6a3624-2b5e-4f78-93ab-e8416b79efac"
   },
   "source": [
    "- '버스정류장ARS번호' 열 이름을 '정류장수' 로 변경하세요."
   ]
  },
  {
   "cell_type": "code",
   "execution_count": 71,
   "id": "49c0334c-f1de-498e-b265-7d0890690b05",
   "metadata": {
    "id": "49c0334c-f1de-498e-b265-7d0890690b05",
    "tags": []
   },
   "outputs": [
    {
     "data": {
      "text/html": [
       "<div>\n",
       "<style scoped>\n",
       "    .dataframe tbody tr th:only-of-type {\n",
       "        vertical-align: middle;\n",
       "    }\n",
       "\n",
       "    .dataframe tbody tr th {\n",
       "        vertical-align: top;\n",
       "    }\n",
       "\n",
       "    .dataframe thead th {\n",
       "        text-align: right;\n",
       "    }\n",
       "</style>\n",
       "<table border=\"1\" class=\"dataframe\">\n",
       "  <thead>\n",
       "    <tr style=\"text-align: right;\">\n",
       "      <th></th>\n",
       "      <th>자치구</th>\n",
       "      <th>정류장수</th>\n",
       "    </tr>\n",
       "  </thead>\n",
       "  <tbody>\n",
       "    <tr>\n",
       "      <th>0</th>\n",
       "      <td>강남구</td>\n",
       "      <td>502</td>\n",
       "    </tr>\n",
       "    <tr>\n",
       "      <th>1</th>\n",
       "      <td>강동구</td>\n",
       "      <td>376</td>\n",
       "    </tr>\n",
       "    <tr>\n",
       "      <th>2</th>\n",
       "      <td>강북구</td>\n",
       "      <td>410</td>\n",
       "    </tr>\n",
       "    <tr>\n",
       "      <th>3</th>\n",
       "      <td>강서구</td>\n",
       "      <td>565</td>\n",
       "    </tr>\n",
       "    <tr>\n",
       "      <th>4</th>\n",
       "      <td>관악구</td>\n",
       "      <td>465</td>\n",
       "    </tr>\n",
       "  </tbody>\n",
       "</table>\n",
       "</div>"
      ],
      "text/plain": [
       "   자치구  정류장수\n",
       "0  강남구   502\n",
       "1  강동구   376\n",
       "2  강북구   410\n",
       "3  강서구   565\n",
       "4  관악구   465"
      ]
     },
     "execution_count": 71,
     "metadata": {},
     "output_type": "execute_result"
    }
   ],
   "source": [
    "# 열 이름 변경: '버스정류장ARS번호' --> '정류장수'\n",
    "# 참고: rename() 메서드 사용\n",
    "seoul_bus_station_ars.rename(columns={'버스정류장ARS번호':'정류장수'},inplace=True)\n",
    "# 확인\n",
    "seoul_bus_station_ars.head()"
   ]
  },
  {
   "cell_type": "markdown",
   "id": "33564b09",
   "metadata": {
    "id": "33564b09",
    "jp-MarkdownHeadingCollapsed": true
   },
   "source": [
    "## [실습6] 구별 버스노선 개수 확인\n",
    "\n",
    "- 자치구별 '노선번호' 개수를 집계하세요.\n",
    "- 집계 결과를 seoul_bus_station_line 데이터프레임으로 선언하세요."
   ]
  },
  {
   "cell_type": "code",
   "execution_count": 74,
   "id": "5588cb7f",
   "metadata": {
    "id": "5588cb7f",
    "tags": []
   },
   "outputs": [
    {
     "data": {
      "text/html": [
       "<div>\n",
       "<style scoped>\n",
       "    .dataframe tbody tr th:only-of-type {\n",
       "        vertical-align: middle;\n",
       "    }\n",
       "\n",
       "    .dataframe tbody tr th {\n",
       "        vertical-align: top;\n",
       "    }\n",
       "\n",
       "    .dataframe thead th {\n",
       "        text-align: right;\n",
       "    }\n",
       "</style>\n",
       "<table border=\"1\" class=\"dataframe\">\n",
       "  <thead>\n",
       "    <tr style=\"text-align: right;\">\n",
       "      <th></th>\n",
       "      <th>자치구</th>\n",
       "      <th>노선번호</th>\n",
       "    </tr>\n",
       "  </thead>\n",
       "  <tbody>\n",
       "    <tr>\n",
       "      <th>0</th>\n",
       "      <td>강남구</td>\n",
       "      <td>99</td>\n",
       "    </tr>\n",
       "    <tr>\n",
       "      <th>1</th>\n",
       "      <td>강동구</td>\n",
       "      <td>24</td>\n",
       "    </tr>\n",
       "    <tr>\n",
       "      <th>2</th>\n",
       "      <td>강북구</td>\n",
       "      <td>71</td>\n",
       "    </tr>\n",
       "    <tr>\n",
       "      <th>3</th>\n",
       "      <td>강서구</td>\n",
       "      <td>54</td>\n",
       "    </tr>\n",
       "    <tr>\n",
       "      <th>4</th>\n",
       "      <td>관악구</td>\n",
       "      <td>82</td>\n",
       "    </tr>\n",
       "    <tr>\n",
       "      <th>5</th>\n",
       "      <td>광진구</td>\n",
       "      <td>43</td>\n",
       "    </tr>\n",
       "    <tr>\n",
       "      <th>6</th>\n",
       "      <td>구로구</td>\n",
       "      <td>81</td>\n",
       "    </tr>\n",
       "    <tr>\n",
       "      <th>7</th>\n",
       "      <td>금천구</td>\n",
       "      <td>56</td>\n",
       "    </tr>\n",
       "    <tr>\n",
       "      <th>8</th>\n",
       "      <td>노원구</td>\n",
       "      <td>61</td>\n",
       "    </tr>\n",
       "    <tr>\n",
       "      <th>9</th>\n",
       "      <td>도봉구</td>\n",
       "      <td>57</td>\n",
       "    </tr>\n",
       "    <tr>\n",
       "      <th>10</th>\n",
       "      <td>동대문구</td>\n",
       "      <td>75</td>\n",
       "    </tr>\n",
       "    <tr>\n",
       "      <th>11</th>\n",
       "      <td>동작구</td>\n",
       "      <td>94</td>\n",
       "    </tr>\n",
       "    <tr>\n",
       "      <th>12</th>\n",
       "      <td>마포구</td>\n",
       "      <td>102</td>\n",
       "    </tr>\n",
       "    <tr>\n",
       "      <th>13</th>\n",
       "      <td>서대문구</td>\n",
       "      <td>109</td>\n",
       "    </tr>\n",
       "    <tr>\n",
       "      <th>14</th>\n",
       "      <td>서초구</td>\n",
       "      <td>105</td>\n",
       "    </tr>\n",
       "    <tr>\n",
       "      <th>15</th>\n",
       "      <td>성동구</td>\n",
       "      <td>58</td>\n",
       "    </tr>\n",
       "    <tr>\n",
       "      <th>16</th>\n",
       "      <td>성북구</td>\n",
       "      <td>100</td>\n",
       "    </tr>\n",
       "    <tr>\n",
       "      <th>17</th>\n",
       "      <td>송파구</td>\n",
       "      <td>62</td>\n",
       "    </tr>\n",
       "    <tr>\n",
       "      <th>18</th>\n",
       "      <td>양천구</td>\n",
       "      <td>57</td>\n",
       "    </tr>\n",
       "    <tr>\n",
       "      <th>19</th>\n",
       "      <td>영등포구</td>\n",
       "      <td>101</td>\n",
       "    </tr>\n",
       "    <tr>\n",
       "      <th>20</th>\n",
       "      <td>용산구</td>\n",
       "      <td>70</td>\n",
       "    </tr>\n",
       "    <tr>\n",
       "      <th>21</th>\n",
       "      <td>은평구</td>\n",
       "      <td>76</td>\n",
       "    </tr>\n",
       "    <tr>\n",
       "      <th>22</th>\n",
       "      <td>종로구</td>\n",
       "      <td>107</td>\n",
       "    </tr>\n",
       "    <tr>\n",
       "      <th>23</th>\n",
       "      <td>중구</td>\n",
       "      <td>102</td>\n",
       "    </tr>\n",
       "    <tr>\n",
       "      <th>24</th>\n",
       "      <td>중랑구</td>\n",
       "      <td>50</td>\n",
       "    </tr>\n",
       "  </tbody>\n",
       "</table>\n",
       "</div>"
      ],
      "text/plain": [
       "     자치구  노선번호\n",
       "0    강남구    99\n",
       "1    강동구    24\n",
       "2    강북구    71\n",
       "3    강서구    54\n",
       "4    관악구    82\n",
       "5    광진구    43\n",
       "6    구로구    81\n",
       "7    금천구    56\n",
       "8    노원구    61\n",
       "9    도봉구    57\n",
       "10  동대문구    75\n",
       "11   동작구    94\n",
       "12   마포구   102\n",
       "13  서대문구   109\n",
       "14   서초구   105\n",
       "15   성동구    58\n",
       "16   성북구   100\n",
       "17   송파구    62\n",
       "18   양천구    57\n",
       "19  영등포구   101\n",
       "20   용산구    70\n",
       "21   은평구    76\n",
       "22   종로구   107\n",
       "23    중구   102\n",
       "24   중랑구    50"
      ]
     },
     "execution_count": 74,
     "metadata": {},
     "output_type": "execute_result"
    }
   ],
   "source": [
    "# 자치구별 '노선번호' 개수 집계 --> seoul_bus_station_line 데이터프레임으로 선언\n",
    "# 참고: groupby() 메서드 사용, as_index=False 지정, nunique() 집계\n",
    "seoul_bus_station_line=tmp.groupby(['자치구'],as_index=False)['노선번호'].nunique()\n",
    "\n",
    "# 확인\n",
    "seoul_bus_station_line"
   ]
  },
  {
   "cell_type": "markdown",
   "id": "147f8164-6e51-4f87-83f5-c1f684219096",
   "metadata": {
    "id": "147f8164-6e51-4f87-83f5-c1f684219096"
   },
   "source": [
    "- '노선번호' 열 이름을 '노선수'로 변경하세요."
   ]
  },
  {
   "cell_type": "code",
   "execution_count": 77,
   "id": "b8301654-28c0-4e61-bcfa-2ccd5cb65fcb",
   "metadata": {
    "id": "b8301654-28c0-4e61-bcfa-2ccd5cb65fcb",
    "tags": []
   },
   "outputs": [
    {
     "data": {
      "text/html": [
       "<div>\n",
       "<style scoped>\n",
       "    .dataframe tbody tr th:only-of-type {\n",
       "        vertical-align: middle;\n",
       "    }\n",
       "\n",
       "    .dataframe tbody tr th {\n",
       "        vertical-align: top;\n",
       "    }\n",
       "\n",
       "    .dataframe thead th {\n",
       "        text-align: right;\n",
       "    }\n",
       "</style>\n",
       "<table border=\"1\" class=\"dataframe\">\n",
       "  <thead>\n",
       "    <tr style=\"text-align: right;\">\n",
       "      <th></th>\n",
       "      <th>버스정류장ARS번호</th>\n",
       "      <th>정류소명</th>\n",
       "      <th>사용일자</th>\n",
       "      <th>노선수</th>\n",
       "      <th>노선명</th>\n",
       "      <th>역명</th>\n",
       "      <th>승차총승객수</th>\n",
       "      <th>하차총승객수</th>\n",
       "      <th>등록일자</th>\n",
       "      <th>자치구</th>\n",
       "    </tr>\n",
       "  </thead>\n",
       "  <tbody>\n",
       "    <tr>\n",
       "      <th>0</th>\n",
       "      <td>1001</td>\n",
       "      <td>종로2가사거리</td>\n",
       "      <td>20240801</td>\n",
       "      <td>N37</td>\n",
       "      <td>N37번(송파공영차고지~진관공영차고지)</td>\n",
       "      <td>종로2가사거리(00032)</td>\n",
       "      <td>15</td>\n",
       "      <td>26</td>\n",
       "      <td>20240804</td>\n",
       "      <td>종로구</td>\n",
       "    </tr>\n",
       "    <tr>\n",
       "      <th>1</th>\n",
       "      <td>1001</td>\n",
       "      <td>종로2가사거리</td>\n",
       "      <td>20240801</td>\n",
       "      <td>N37</td>\n",
       "      <td>N37번(진관공영차고지~송파공영차고지)</td>\n",
       "      <td>종로2가사거리(00089)</td>\n",
       "      <td>13</td>\n",
       "      <td>11</td>\n",
       "      <td>20240804</td>\n",
       "      <td>종로구</td>\n",
       "    </tr>\n",
       "    <tr>\n",
       "      <th>2</th>\n",
       "      <td>1001</td>\n",
       "      <td>종로2가사거리</td>\n",
       "      <td>20240801</td>\n",
       "      <td>470</td>\n",
       "      <td>470번(상암차고지~안골마을)</td>\n",
       "      <td>종로2가사거리(00066)</td>\n",
       "      <td>296</td>\n",
       "      <td>288</td>\n",
       "      <td>20240804</td>\n",
       "      <td>종로구</td>\n",
       "    </tr>\n",
       "    <tr>\n",
       "      <th>3</th>\n",
       "      <td>1001</td>\n",
       "      <td>종로2가사거리</td>\n",
       "      <td>20240801</td>\n",
       "      <td>741</td>\n",
       "      <td>741번(진관차고지~헌인릉입구)</td>\n",
       "      <td>종로2가사거리(00075)</td>\n",
       "      <td>259</td>\n",
       "      <td>293</td>\n",
       "      <td>20240804</td>\n",
       "      <td>종로구</td>\n",
       "    </tr>\n",
       "    <tr>\n",
       "      <th>4</th>\n",
       "      <td>1001</td>\n",
       "      <td>종로2가사거리</td>\n",
       "      <td>20240802</td>\n",
       "      <td>N37</td>\n",
       "      <td>N37번(송파공영차고지~진관공영차고지)</td>\n",
       "      <td>종로2가사거리(00032)</td>\n",
       "      <td>12</td>\n",
       "      <td>5</td>\n",
       "      <td>20240805</td>\n",
       "      <td>종로구</td>\n",
       "    </tr>\n",
       "  </tbody>\n",
       "</table>\n",
       "</div>"
      ],
      "text/plain": [
       "   버스정류장ARS번호     정류소명      사용일자  노선수                    노선명              역명  \\\n",
       "0        1001  종로2가사거리  20240801  N37  N37번(송파공영차고지~진관공영차고지)  종로2가사거리(00032)   \n",
       "1        1001  종로2가사거리  20240801  N37  N37번(진관공영차고지~송파공영차고지)  종로2가사거리(00089)   \n",
       "2        1001  종로2가사거리  20240801  470       470번(상암차고지~안골마을)  종로2가사거리(00066)   \n",
       "3        1001  종로2가사거리  20240801  741      741번(진관차고지~헌인릉입구)  종로2가사거리(00075)   \n",
       "4        1001  종로2가사거리  20240802  N37  N37번(송파공영차고지~진관공영차고지)  종로2가사거리(00032)   \n",
       "\n",
       "   승차총승객수  하차총승객수      등록일자  자치구  \n",
       "0      15      26  20240804  종로구  \n",
       "1      13      11  20240804  종로구  \n",
       "2     296     288  20240804  종로구  \n",
       "3     259     293  20240804  종로구  \n",
       "4      12       5  20240805  종로구  "
      ]
     },
     "execution_count": 77,
     "metadata": {},
     "output_type": "execute_result"
    }
   ],
   "source": [
    "# 열 이름 변경: '노선번호' --> '노선수'\n",
    "# 참고: rename() 메서드 사용\n",
    "tmp.rename(columns={'노선번호':'노선수'},inplace=True)\n",
    "\n",
    "# 확인\n",
    "tmp.head()"
   ]
  },
  {
   "cell_type": "markdown",
   "id": "3666e46c",
   "metadata": {
    "id": "3666e46c"
   },
   "source": [
    "## [실습7] 구별 승차 총 승객수, 하차 총 승객수 구하기\n",
    "\n",
    "- 자치구별 '승차총승객수', '하차총승객수' 합을 집계하세요.\n",
    "- 집계 결과를 seoul_bus_station_sum 데이터프레임으로 선언하세요."
   ]
  },
  {
   "cell_type": "code",
   "execution_count": 80,
   "id": "1cdd246f",
   "metadata": {
    "id": "1cdd246f",
    "tags": []
   },
   "outputs": [
    {
     "data": {
      "text/html": [
       "<div>\n",
       "<style scoped>\n",
       "    .dataframe tbody tr th:only-of-type {\n",
       "        vertical-align: middle;\n",
       "    }\n",
       "\n",
       "    .dataframe tbody tr th {\n",
       "        vertical-align: top;\n",
       "    }\n",
       "\n",
       "    .dataframe thead th {\n",
       "        text-align: right;\n",
       "    }\n",
       "</style>\n",
       "<table border=\"1\" class=\"dataframe\">\n",
       "  <thead>\n",
       "    <tr style=\"text-align: right;\">\n",
       "      <th></th>\n",
       "      <th>자치구</th>\n",
       "      <th>승차총승객수</th>\n",
       "      <th>하차총승객수</th>\n",
       "    </tr>\n",
       "  </thead>\n",
       "  <tbody>\n",
       "    <tr>\n",
       "      <th>20</th>\n",
       "      <td>용산구</td>\n",
       "      <td>4764100</td>\n",
       "      <td>4663071</td>\n",
       "    </tr>\n",
       "    <tr>\n",
       "      <th>21</th>\n",
       "      <td>은평구</td>\n",
       "      <td>5723211</td>\n",
       "      <td>5636929</td>\n",
       "    </tr>\n",
       "    <tr>\n",
       "      <th>22</th>\n",
       "      <td>종로구</td>\n",
       "      <td>6030756</td>\n",
       "      <td>5793573</td>\n",
       "    </tr>\n",
       "    <tr>\n",
       "      <th>23</th>\n",
       "      <td>중구</td>\n",
       "      <td>4384564</td>\n",
       "      <td>4238810</td>\n",
       "    </tr>\n",
       "    <tr>\n",
       "      <th>24</th>\n",
       "      <td>중랑구</td>\n",
       "      <td>4220995</td>\n",
       "      <td>4167084</td>\n",
       "    </tr>\n",
       "  </tbody>\n",
       "</table>\n",
       "</div>"
      ],
      "text/plain": [
       "    자치구   승차총승객수   하차총승객수\n",
       "20  용산구  4764100  4663071\n",
       "21  은평구  5723211  5636929\n",
       "22  종로구  6030756  5793573\n",
       "23   중구  4384564  4238810\n",
       "24  중랑구  4220995  4167084"
      ]
     },
     "execution_count": 80,
     "metadata": {},
     "output_type": "execute_result"
    }
   ],
   "source": [
    "# 자치구별 '승차총승객수', '하차총승객수' 합 집계 --> seoul_bus_station_sum 데이터프레임으로 선언\n",
    "# 참고: groupby() 메서드 사용, as_index=False 지정, sum() 집계\n",
    "seoul_bus_station_sum=tmp.groupby(['자치구'],as_index=False)[['승차총승객수','하차총승객수']].sum()\n",
    "\n",
    "# 확인\n",
    "seoul_bus_station_sum.tail()"
   ]
  },
  {
   "cell_type": "markdown",
   "id": "a3dcb6d4",
   "metadata": {
    "id": "a3dcb6d4"
   },
   "source": [
    "## [실습8] 구별 승차 평균 승객수, 하차 평균 승객수 구하기\n",
    "\n",
    "- 자치구별 '승차총승객수', '하차총승객수' 평균을 집계하세요.\n",
    "- 집계 결과를 seoul_bus_station_mean 데이터프레임으로 선언하세요."
   ]
  },
  {
   "cell_type": "code",
   "execution_count": 83,
   "id": "ad901b47",
   "metadata": {
    "id": "ad901b47",
    "tags": []
   },
   "outputs": [
    {
     "data": {
      "text/html": [
       "<div>\n",
       "<style scoped>\n",
       "    .dataframe tbody tr th:only-of-type {\n",
       "        vertical-align: middle;\n",
       "    }\n",
       "\n",
       "    .dataframe tbody tr th {\n",
       "        vertical-align: top;\n",
       "    }\n",
       "\n",
       "    .dataframe thead th {\n",
       "        text-align: right;\n",
       "    }\n",
       "</style>\n",
       "<table border=\"1\" class=\"dataframe\">\n",
       "  <thead>\n",
       "    <tr style=\"text-align: right;\">\n",
       "      <th></th>\n",
       "      <th>자치구</th>\n",
       "      <th>승차총승객수</th>\n",
       "      <th>하차총승객수</th>\n",
       "    </tr>\n",
       "  </thead>\n",
       "  <tbody>\n",
       "    <tr>\n",
       "      <th>0</th>\n",
       "      <td>강남구</td>\n",
       "      <td>135.163908</td>\n",
       "      <td>128.153318</td>\n",
       "    </tr>\n",
       "    <tr>\n",
       "      <th>1</th>\n",
       "      <td>강동구</td>\n",
       "      <td>94.638885</td>\n",
       "      <td>92.816079</td>\n",
       "    </tr>\n",
       "    <tr>\n",
       "      <th>2</th>\n",
       "      <td>강북구</td>\n",
       "      <td>138.244306</td>\n",
       "      <td>133.831743</td>\n",
       "    </tr>\n",
       "    <tr>\n",
       "      <th>3</th>\n",
       "      <td>강서구</td>\n",
       "      <td>93.106837</td>\n",
       "      <td>92.634362</td>\n",
       "    </tr>\n",
       "    <tr>\n",
       "      <th>4</th>\n",
       "      <td>관악구</td>\n",
       "      <td>147.777793</td>\n",
       "      <td>150.832994</td>\n",
       "    </tr>\n",
       "  </tbody>\n",
       "</table>\n",
       "</div>"
      ],
      "text/plain": [
       "   자치구      승차총승객수      하차총승객수\n",
       "0  강남구  135.163908  128.153318\n",
       "1  강동구   94.638885   92.816079\n",
       "2  강북구  138.244306  133.831743\n",
       "3  강서구   93.106837   92.634362\n",
       "4  관악구  147.777793  150.832994"
      ]
     },
     "execution_count": 83,
     "metadata": {},
     "output_type": "execute_result"
    }
   ],
   "source": [
    "# 자치구별 '승차총승객수', '하차총승객수' 평균 집계 --> seoul_bus_station_mean 데이터프레임으로 선언\n",
    "# 참고: groupby() 메서드 사용, as_index=False 지정, mean() 집계\n",
    "seoul_bus_station_mean=tmp.groupby(['자치구'],as_index=False)[['승차총승객수','하차총승객수']].mean()\n",
    "# 확인\n",
    "seoul_bus_station_mean.head()"
   ]
  },
  {
   "cell_type": "markdown",
   "id": "83968082-1183-4a33-ab24-7cf79c281b61",
   "metadata": {
    "id": "83968082-1183-4a33-ab24-7cf79c281b61"
   },
   "source": [
    "- 다음과 같이 seoul_bus_station_mean 데이터프레임의 열 이름을 변경하세요.\n",
    "    - '승차총승객수' --> '승차평균승객수', '하차총승객수' --> '하차평균승객수'"
   ]
  },
  {
   "cell_type": "code",
   "execution_count": 86,
   "id": "5c38edd7-f6ec-4723-b840-a146b50868df",
   "metadata": {
    "id": "5c38edd7-f6ec-4723-b840-a146b50868df"
   },
   "outputs": [],
   "source": [
    "# 열 이름 변경: '승차총승객수' --> '승차평균승객수', '하차총승객수' --> '하차평균승객수'\n",
    "# 참고: rename() 메서드 사용\n",
    "seoul_bus_station_mean.rename(columns={'승차총승객수':'승차평균승객수','하차총승객수':'하차평균승객수'},inplace=True)"
   ]
  },
  {
   "cell_type": "code",
   "execution_count": 88,
   "id": "5d3cf402-cd40-494d-a34d-e933d2fbdd32",
   "metadata": {},
   "outputs": [
    {
     "data": {
      "text/html": [
       "<div>\n",
       "<style scoped>\n",
       "    .dataframe tbody tr th:only-of-type {\n",
       "        vertical-align: middle;\n",
       "    }\n",
       "\n",
       "    .dataframe tbody tr th {\n",
       "        vertical-align: top;\n",
       "    }\n",
       "\n",
       "    .dataframe thead th {\n",
       "        text-align: right;\n",
       "    }\n",
       "</style>\n",
       "<table border=\"1\" class=\"dataframe\">\n",
       "  <thead>\n",
       "    <tr style=\"text-align: right;\">\n",
       "      <th></th>\n",
       "      <th>자치구</th>\n",
       "      <th>승차평균승객수</th>\n",
       "      <th>하차평균승객수</th>\n",
       "    </tr>\n",
       "  </thead>\n",
       "  <tbody>\n",
       "    <tr>\n",
       "      <th>0</th>\n",
       "      <td>강남구</td>\n",
       "      <td>135.163908</td>\n",
       "      <td>128.153318</td>\n",
       "    </tr>\n",
       "    <tr>\n",
       "      <th>1</th>\n",
       "      <td>강동구</td>\n",
       "      <td>94.638885</td>\n",
       "      <td>92.816079</td>\n",
       "    </tr>\n",
       "    <tr>\n",
       "      <th>2</th>\n",
       "      <td>강북구</td>\n",
       "      <td>138.244306</td>\n",
       "      <td>133.831743</td>\n",
       "    </tr>\n",
       "    <tr>\n",
       "      <th>3</th>\n",
       "      <td>강서구</td>\n",
       "      <td>93.106837</td>\n",
       "      <td>92.634362</td>\n",
       "    </tr>\n",
       "    <tr>\n",
       "      <th>4</th>\n",
       "      <td>관악구</td>\n",
       "      <td>147.777793</td>\n",
       "      <td>150.832994</td>\n",
       "    </tr>\n",
       "  </tbody>\n",
       "</table>\n",
       "</div>"
      ],
      "text/plain": [
       "   자치구     승차평균승객수     하차평균승객수\n",
       "0  강남구  135.163908  128.153318\n",
       "1  강동구   94.638885   92.816079\n",
       "2  강북구  138.244306  133.831743\n",
       "3  강서구   93.106837   92.634362\n",
       "4  관악구  147.777793  150.832994"
      ]
     },
     "execution_count": 88,
     "metadata": {},
     "output_type": "execute_result"
    }
   ],
   "source": [
    "# 확인\n",
    "seoul_bus_station_mean.head()"
   ]
  },
  {
   "cell_type": "markdown",
   "id": "7f329891",
   "metadata": {
    "id": "7f329891"
   },
   "source": [
    "## [실습9] 데이터 프레임 합치기\n",
    "\n",
    "- 위 과정에서 만들어진 다음 4개 데이터프레임을 조인(merge)하세요.\n",
    "    - seoul_bus_station_ars\n",
    "    - seoul_bus_station_line\n",
    "    - seoul_bus_station_sum\n",
    "    - seoul_bus_station_mean\n",
    "- 조인 결과를 seoul_bus_station 데이터프레임으로 선언하세요."
   ]
  },
  {
   "cell_type": "code",
   "execution_count": 91,
   "id": "f0743723-964f-4e33-9047-24826a5d6ffd",
   "metadata": {},
   "outputs": [
    {
     "name": "stdout",
     "output_type": "stream",
     "text": [
      "(25, 2)\n",
      "(25, 2)\n",
      "(25, 3)\n"
     ]
    }
   ],
   "source": [
    "print(seoul_bus_station_ars.shape)\n",
    "print(seoul_bus_station_line.shape)\n",
    "print(seoul_bus_station_sum.shape)"
   ]
  },
  {
   "cell_type": "code",
   "execution_count": 93,
   "id": "dc284dfd",
   "metadata": {
    "id": "dc284dfd",
    "tags": []
   },
   "outputs": [
    {
     "data": {
      "text/html": [
       "<div>\n",
       "<style scoped>\n",
       "    .dataframe tbody tr th:only-of-type {\n",
       "        vertical-align: middle;\n",
       "    }\n",
       "\n",
       "    .dataframe tbody tr th {\n",
       "        vertical-align: top;\n",
       "    }\n",
       "\n",
       "    .dataframe thead th {\n",
       "        text-align: right;\n",
       "    }\n",
       "</style>\n",
       "<table border=\"1\" class=\"dataframe\">\n",
       "  <thead>\n",
       "    <tr style=\"text-align: right;\">\n",
       "      <th></th>\n",
       "      <th>자치구</th>\n",
       "      <th>정류장수</th>\n",
       "      <th>노선번호</th>\n",
       "      <th>승차총승객수</th>\n",
       "      <th>하차총승객수</th>\n",
       "      <th>승차평균승객수</th>\n",
       "      <th>하차평균승객수</th>\n",
       "    </tr>\n",
       "  </thead>\n",
       "  <tbody>\n",
       "    <tr>\n",
       "      <th>0</th>\n",
       "      <td>강남구</td>\n",
       "      <td>502</td>\n",
       "      <td>99</td>\n",
       "      <td>9113021</td>\n",
       "      <td>8640353</td>\n",
       "      <td>135.163908</td>\n",
       "      <td>128.153318</td>\n",
       "    </tr>\n",
       "    <tr>\n",
       "      <th>1</th>\n",
       "      <td>강동구</td>\n",
       "      <td>376</td>\n",
       "      <td>24</td>\n",
       "      <td>3306588</td>\n",
       "      <td>3242901</td>\n",
       "      <td>94.638885</td>\n",
       "      <td>92.816079</td>\n",
       "    </tr>\n",
       "    <tr>\n",
       "      <th>2</th>\n",
       "      <td>강북구</td>\n",
       "      <td>410</td>\n",
       "      <td>71</td>\n",
       "      <td>5244436</td>\n",
       "      <td>5077041</td>\n",
       "      <td>138.244306</td>\n",
       "      <td>133.831743</td>\n",
       "    </tr>\n",
       "    <tr>\n",
       "      <th>3</th>\n",
       "      <td>강서구</td>\n",
       "      <td>565</td>\n",
       "      <td>54</td>\n",
       "      <td>5244615</td>\n",
       "      <td>5218001</td>\n",
       "      <td>93.106837</td>\n",
       "      <td>92.634362</td>\n",
       "    </tr>\n",
       "    <tr>\n",
       "      <th>4</th>\n",
       "      <td>관악구</td>\n",
       "      <td>465</td>\n",
       "      <td>82</td>\n",
       "      <td>7691243</td>\n",
       "      <td>7850254</td>\n",
       "      <td>147.777793</td>\n",
       "      <td>150.832994</td>\n",
       "    </tr>\n",
       "  </tbody>\n",
       "</table>\n",
       "</div>"
      ],
      "text/plain": [
       "   자치구  정류장수  노선번호   승차총승객수   하차총승객수     승차평균승객수     하차평균승객수\n",
       "0  강남구   502    99  9113021  8640353  135.163908  128.153318\n",
       "1  강동구   376    24  3306588  3242901   94.638885   92.816079\n",
       "2  강북구   410    71  5244436  5077041  138.244306  133.831743\n",
       "3  강서구   565    54  5244615  5218001   93.106837   92.634362\n",
       "4  관악구   465    82  7691243  7850254  147.777793  150.832994"
      ]
     },
     "execution_count": 93,
     "metadata": {},
     "output_type": "execute_result"
    }
   ],
   "source": [
    "# 4개 데이터프레임 조인\n",
    "# 참고: pd.merge() 함수를 3번 사용해야 함\n",
    "# 참고: '자치구' 열이 조인 기준, how='inner' 지정\n",
    "bus = pd.merge(seoul_bus_station_ars, seoul_bus_station_line, how='inner', on='자치구')\n",
    "bus = pd.merge(bus, seoul_bus_station_sum, how='inner', on='자치구')\n",
    "seoul_bus_station = pd.merge(bus, seoul_bus_station_mean, how='inner', on='자치구')\n",
    "\n",
    "# 확인\n",
    "seoul_bus_station.head()"
   ]
  },
  {
   "cell_type": "code",
   "execution_count": 95,
   "id": "c76ab02d-201d-45f2-a209-6f8ab4892af7",
   "metadata": {},
   "outputs": [
    {
     "data": {
      "text/html": [
       "<div>\n",
       "<style scoped>\n",
       "    .dataframe tbody tr th:only-of-type {\n",
       "        vertical-align: middle;\n",
       "    }\n",
       "\n",
       "    .dataframe tbody tr th {\n",
       "        vertical-align: top;\n",
       "    }\n",
       "\n",
       "    .dataframe thead th {\n",
       "        text-align: right;\n",
       "    }\n",
       "</style>\n",
       "<table border=\"1\" class=\"dataframe\">\n",
       "  <thead>\n",
       "    <tr style=\"text-align: right;\">\n",
       "      <th></th>\n",
       "      <th>자치구</th>\n",
       "      <th>승차총승객수</th>\n",
       "      <th>하차총승객수</th>\n",
       "    </tr>\n",
       "  </thead>\n",
       "  <tbody>\n",
       "    <tr>\n",
       "      <th>0</th>\n",
       "      <td>강남구</td>\n",
       "      <td>9113021</td>\n",
       "      <td>8640353</td>\n",
       "    </tr>\n",
       "    <tr>\n",
       "      <th>1</th>\n",
       "      <td>강동구</td>\n",
       "      <td>3306588</td>\n",
       "      <td>3242901</td>\n",
       "    </tr>\n",
       "    <tr>\n",
       "      <th>2</th>\n",
       "      <td>강북구</td>\n",
       "      <td>5244436</td>\n",
       "      <td>5077041</td>\n",
       "    </tr>\n",
       "    <tr>\n",
       "      <th>3</th>\n",
       "      <td>강서구</td>\n",
       "      <td>5244615</td>\n",
       "      <td>5218001</td>\n",
       "    </tr>\n",
       "    <tr>\n",
       "      <th>4</th>\n",
       "      <td>관악구</td>\n",
       "      <td>7691243</td>\n",
       "      <td>7850254</td>\n",
       "    </tr>\n",
       "  </tbody>\n",
       "</table>\n",
       "</div>"
      ],
      "text/plain": [
       "   자치구   승차총승객수   하차총승객수\n",
       "0  강남구  9113021  8640353\n",
       "1  강동구  3306588  3242901\n",
       "2  강북구  5244436  5077041\n",
       "3  강서구  5244615  5218001\n",
       "4  관악구  7691243  7850254"
      ]
     },
     "execution_count": 95,
     "metadata": {},
     "output_type": "execute_result"
    }
   ],
   "source": [
    "seoul_bus_station_sum.head()"
   ]
  },
  {
   "cell_type": "code",
   "execution_count": 97,
   "id": "d8e578d4-e6b0-4db0-9c1e-66db1dc98434",
   "metadata": {},
   "outputs": [
    {
     "data": {
      "text/html": [
       "<div>\n",
       "<style scoped>\n",
       "    .dataframe tbody tr th:only-of-type {\n",
       "        vertical-align: middle;\n",
       "    }\n",
       "\n",
       "    .dataframe tbody tr th {\n",
       "        vertical-align: top;\n",
       "    }\n",
       "\n",
       "    .dataframe thead th {\n",
       "        text-align: right;\n",
       "    }\n",
       "</style>\n",
       "<table border=\"1\" class=\"dataframe\">\n",
       "  <thead>\n",
       "    <tr style=\"text-align: right;\">\n",
       "      <th></th>\n",
       "      <th>자치구</th>\n",
       "      <th>정류장수</th>\n",
       "      <th>노선번호</th>\n",
       "      <th>승차총승객수</th>\n",
       "      <th>하차총승객수</th>\n",
       "      <th>승차평균승객수</th>\n",
       "      <th>하차평균승객수</th>\n",
       "    </tr>\n",
       "  </thead>\n",
       "  <tbody>\n",
       "    <tr>\n",
       "      <th>0</th>\n",
       "      <td>강남구</td>\n",
       "      <td>502</td>\n",
       "      <td>99</td>\n",
       "      <td>9113021</td>\n",
       "      <td>8640353</td>\n",
       "      <td>135.163908</td>\n",
       "      <td>128.153318</td>\n",
       "    </tr>\n",
       "    <tr>\n",
       "      <th>1</th>\n",
       "      <td>강동구</td>\n",
       "      <td>376</td>\n",
       "      <td>24</td>\n",
       "      <td>3306588</td>\n",
       "      <td>3242901</td>\n",
       "      <td>94.638885</td>\n",
       "      <td>92.816079</td>\n",
       "    </tr>\n",
       "    <tr>\n",
       "      <th>2</th>\n",
       "      <td>강북구</td>\n",
       "      <td>410</td>\n",
       "      <td>71</td>\n",
       "      <td>5244436</td>\n",
       "      <td>5077041</td>\n",
       "      <td>138.244306</td>\n",
       "      <td>133.831743</td>\n",
       "    </tr>\n",
       "    <tr>\n",
       "      <th>3</th>\n",
       "      <td>강서구</td>\n",
       "      <td>565</td>\n",
       "      <td>54</td>\n",
       "      <td>5244615</td>\n",
       "      <td>5218001</td>\n",
       "      <td>93.106837</td>\n",
       "      <td>92.634362</td>\n",
       "    </tr>\n",
       "    <tr>\n",
       "      <th>4</th>\n",
       "      <td>관악구</td>\n",
       "      <td>465</td>\n",
       "      <td>82</td>\n",
       "      <td>7691243</td>\n",
       "      <td>7850254</td>\n",
       "      <td>147.777793</td>\n",
       "      <td>150.832994</td>\n",
       "    </tr>\n",
       "  </tbody>\n",
       "</table>\n",
       "</div>"
      ],
      "text/plain": [
       "   자치구  정류장수  노선번호   승차총승객수   하차총승객수     승차평균승객수     하차평균승객수\n",
       "0  강남구   502    99  9113021  8640353  135.163908  128.153318\n",
       "1  강동구   376    24  3306588  3242901   94.638885   92.816079\n",
       "2  강북구   410    71  5244436  5077041  138.244306  133.831743\n",
       "3  강서구   565    54  5244615  5218001   93.106837   92.634362\n",
       "4  관악구   465    82  7691243  7850254  147.777793  150.832994"
      ]
     },
     "execution_count": 97,
     "metadata": {},
     "output_type": "execute_result"
    }
   ],
   "source": [
    "seoul_bus_station.head()"
   ]
  },
  {
   "cell_type": "markdown",
   "id": "3100e73f-9069-4b70-8c6c-f8dff6e4dad6",
   "metadata": {
    "id": "3100e73f-9069-4b70-8c6c-f8dff6e4dad6"
   },
   "source": [
    "- 다음과 같이 seoul_bus_station 데이터프레임의 열 이름을 변경하세요\n",
    "    - '버스정류장ARS번호' --> '정류장수', '노선번호' --> '노선수'"
   ]
  },
  {
   "cell_type": "code",
   "execution_count": 100,
   "id": "0f4a0eca",
   "metadata": {
    "id": "0f4a0eca",
    "tags": []
   },
   "outputs": [
    {
     "data": {
      "text/html": [
       "<div>\n",
       "<style scoped>\n",
       "    .dataframe tbody tr th:only-of-type {\n",
       "        vertical-align: middle;\n",
       "    }\n",
       "\n",
       "    .dataframe tbody tr th {\n",
       "        vertical-align: top;\n",
       "    }\n",
       "\n",
       "    .dataframe thead th {\n",
       "        text-align: right;\n",
       "    }\n",
       "</style>\n",
       "<table border=\"1\" class=\"dataframe\">\n",
       "  <thead>\n",
       "    <tr style=\"text-align: right;\">\n",
       "      <th></th>\n",
       "      <th>자치구</th>\n",
       "      <th>정류장수</th>\n",
       "      <th>노선수</th>\n",
       "      <th>승차총승객수</th>\n",
       "      <th>하차총승객수</th>\n",
       "      <th>승차평균승객수</th>\n",
       "      <th>하차평균승객수</th>\n",
       "    </tr>\n",
       "  </thead>\n",
       "  <tbody>\n",
       "    <tr>\n",
       "      <th>0</th>\n",
       "      <td>강남구</td>\n",
       "      <td>502</td>\n",
       "      <td>99</td>\n",
       "      <td>9113021</td>\n",
       "      <td>8640353</td>\n",
       "      <td>135.163908</td>\n",
       "      <td>128.153318</td>\n",
       "    </tr>\n",
       "    <tr>\n",
       "      <th>1</th>\n",
       "      <td>강동구</td>\n",
       "      <td>376</td>\n",
       "      <td>24</td>\n",
       "      <td>3306588</td>\n",
       "      <td>3242901</td>\n",
       "      <td>94.638885</td>\n",
       "      <td>92.816079</td>\n",
       "    </tr>\n",
       "    <tr>\n",
       "      <th>2</th>\n",
       "      <td>강북구</td>\n",
       "      <td>410</td>\n",
       "      <td>71</td>\n",
       "      <td>5244436</td>\n",
       "      <td>5077041</td>\n",
       "      <td>138.244306</td>\n",
       "      <td>133.831743</td>\n",
       "    </tr>\n",
       "    <tr>\n",
       "      <th>3</th>\n",
       "      <td>강서구</td>\n",
       "      <td>565</td>\n",
       "      <td>54</td>\n",
       "      <td>5244615</td>\n",
       "      <td>5218001</td>\n",
       "      <td>93.106837</td>\n",
       "      <td>92.634362</td>\n",
       "    </tr>\n",
       "    <tr>\n",
       "      <th>4</th>\n",
       "      <td>관악구</td>\n",
       "      <td>465</td>\n",
       "      <td>82</td>\n",
       "      <td>7691243</td>\n",
       "      <td>7850254</td>\n",
       "      <td>147.777793</td>\n",
       "      <td>150.832994</td>\n",
       "    </tr>\n",
       "  </tbody>\n",
       "</table>\n",
       "</div>"
      ],
      "text/plain": [
       "   자치구  정류장수  노선수   승차총승객수   하차총승객수     승차평균승객수     하차평균승객수\n",
       "0  강남구   502   99  9113021  8640353  135.163908  128.153318\n",
       "1  강동구   376   24  3306588  3242901   94.638885   92.816079\n",
       "2  강북구   410   71  5244436  5077041  138.244306  133.831743\n",
       "3  강서구   565   54  5244615  5218001   93.106837   92.634362\n",
       "4  관악구   465   82  7691243  7850254  147.777793  150.832994"
      ]
     },
     "execution_count": 100,
     "metadata": {},
     "output_type": "execute_result"
    }
   ],
   "source": [
    "# 열 이름 변경: '버스정류장ARS번호' --> '정류장수', '노선번호' --> '노선수'\n",
    "# 참고: rename() 메서드 사용\n",
    "seoul_bus_station.rename(columns={'노선번호':'노선수'},inplace=True)\n",
    "# 롹인\n",
    "seoul_bus_station.head()"
   ]
  },
  {
   "cell_type": "markdown",
   "id": "6b3c935a-602b-4ad0-b9a0-4effa2f94a13",
   "metadata": {
    "id": "6b3c935a-602b-4ad0-b9a0-4effa2f94a13"
   },
   "source": [
    "- seoul_bus_station 데이터프레임을 df_seoul_bus_station.csv 파일로 저장하세요."
   ]
  },
  {
   "cell_type": "code",
   "execution_count": 103,
   "id": "97d0cc3f",
   "metadata": {
    "id": "97d0cc3f",
    "tags": []
   },
   "outputs": [],
   "source": [
    "# csv 파일로 데이터프레임 저장 (파일명: df_seoul_bus_station.csv)\n",
    "# 참고: to_csv() 메서드를 사용, index=False 지정\n",
    "seoul_bus_station.to_csv('df_seoul_bus_station.csv', index=False)"
   ]
  },
  {
   "cell_type": "markdown",
   "id": "602b8bae",
   "metadata": {
    "id": "602b8bae"
   },
   "source": [
    "---"
   ]
  },
  {
   "cell_type": "markdown",
   "id": "426765a9-f012-4eed-9e4e-706a54e29d79",
   "metadata": {
    "id": "426765a9-f012-4eed-9e4e-706a54e29d79"
   },
   "source": [
    "# 3. 데이터 분석\n",
    "\n",
    "- 다양한 분석 과정을 통해 인사이트를 도출하세요."
   ]
  },
  {
   "cell_type": "markdown",
   "id": "0b75a6db-2f92-4a48-b274-48fc2e13e7db",
   "metadata": {
    "id": "0b75a6db-2f92-4a48-b274-48fc2e13e7db"
   },
   "source": [
    "## [실습10] 시각화 분석\n",
    "\n",
    "- 다양한 열를 기준으로 그래프를 그려보고 인사이트를 도출해보세요."
   ]
  },
  {
   "cell_type": "code",
   "execution_count": 406,
   "id": "842476c7-2409-4dc9-b391-27ea3e39b6f8",
   "metadata": {
    "id": "842476c7-2409-4dc9-b391-27ea3e39b6f8"
   },
   "outputs": [
    {
     "data": {
      "text/plain": [
       "{'whiskers': [<matplotlib.lines.Line2D at 0x239c78481a0>,\n",
       "  <matplotlib.lines.Line2D at 0x239c7848410>],\n",
       " 'caps': [<matplotlib.lines.Line2D at 0x239c7848650>,\n",
       "  <matplotlib.lines.Line2D at 0x239c7848950>],\n",
       " 'boxes': [<matplotlib.lines.Line2D at 0x239c77f5760>],\n",
       " 'medians': [<matplotlib.lines.Line2D at 0x239c7848b60>],\n",
       " 'fliers': [<matplotlib.lines.Line2D at 0x239c7848e60>],\n",
       " 'means': []}"
      ]
     },
     "execution_count": 406,
     "metadata": {},
     "output_type": "execute_result"
    },
    {
     "data": {
      "image/png": "[encoded data removed]",
      "text/plain": [
       "<Figure size 640x480 with 1 Axes>"
      ]
     },
     "metadata": {
      "image/png": {
       "height": 412,
       "width": 551
      }
     },
     "output_type": "display_data"
    }
   ],
   "source": [
    "# 주석\n",
    "plt.boxplot(seoul_bus_station['정류장수'])"
   ]
  },
  {
   "cell_type": "code",
   "execution_count": 410,
   "id": "58231082-0c1f-4cf7-9425-09a836e6b05a",
   "metadata": {},
   "outputs": [
    {
     "data": {
      "text/plain": [
       "{'whiskers': [<matplotlib.lines.Line2D at 0x239c7889d00>,\n",
       "  <matplotlib.lines.Line2D at 0x239c788a000>],\n",
       " 'caps': [<matplotlib.lines.Line2D at 0x239c788a300>,\n",
       "  <matplotlib.lines.Line2D at 0x239c788a600>],\n",
       " 'boxes': [<matplotlib.lines.Line2D at 0x239c7889ac0>],\n",
       " 'medians': [<matplotlib.lines.Line2D at 0x239c788a7e0>],\n",
       " 'fliers': [<matplotlib.lines.Line2D at 0x239c788aae0>],\n",
       " 'means': []}"
      ]
     },
     "execution_count": 410,
     "metadata": {},
     "output_type": "execute_result"
    },
    {
     "data": {
      "image/png": "[encoded data removed]",
      "text/plain": [
       "<Figure size 640x480 with 1 Axes>"
      ]
     },
     "metadata": {
      "image/png": {
       "height": 412,
       "width": 551
      }
     },
     "output_type": "display_data"
    }
   ],
   "source": [
    "# 주석\n",
    "plt.boxplot(seoul_bus_station['노선수'])"
   ]
  },
  {
   "cell_type": "code",
   "execution_count": 414,
   "id": "a047c1ed-da89-45b4-9303-a8730c059b3d",
   "metadata": {
    "id": "a047c1ed-da89-45b4-9303-a8730c059b3d"
   },
   "outputs": [
    {
     "data": {
      "text/plain": [
       "{'whiskers': [<matplotlib.lines.Line2D at 0x239cb4f52e0>,\n",
       "  <matplotlib.lines.Line2D at 0x239cb4f56a0>],\n",
       " 'caps': [<matplotlib.lines.Line2D at 0x239cb4f5130>,\n",
       "  <matplotlib.lines.Line2D at 0x239cb4f5cd0>],\n",
       " 'boxes': [<matplotlib.lines.Line2D at 0x239c78b87a0>],\n",
       " 'medians': [<matplotlib.lines.Line2D at 0x239cb4f5ee0>],\n",
       " 'fliers': [<matplotlib.lines.Line2D at 0x239cb4f61e0>],\n",
       " 'means': []}"
      ]
     },
     "execution_count": 414,
     "metadata": {},
     "output_type": "execute_result"
    },
    {
     "data": {
      "image/png": "[encoded data removed]",
      "text/plain": [
       "<Figure size 640x480 with 1 Axes>"
      ]
     },
     "metadata": {
      "image/png": {
       "height": 426,
       "width": 534
      }
     },
     "output_type": "display_data"
    }
   ],
   "source": [
    "# 주석\n",
    "plt.boxplot(seoul_bus_station['승차총승객수'])"
   ]
  },
  {
   "cell_type": "code",
   "execution_count": 426,
   "id": "3b634c73-b192-478f-8b67-08ea4a0622cd",
   "metadata": {
    "id": "3b634c73-b192-478f-8b67-08ea4a0622cd"
   },
   "outputs": [
    {
     "data": {
      "image/png": "[encoded data removed]",
      "text/plain": [
       "<Figure size 640x480 with 1 Axes>"
      ]
     },
     "metadata": {
      "image/png": {
       "height": 464,
       "width": 578
      }
     },
     "output_type": "display_data"
    }
   ],
   "source": [
    "# 주석\n",
    "import seaborn as sns\n",
    "sns.barplot(x=\"자치구\", y=\"노선수\", data=seoul_bus_station)\n",
    "plt.xticks(rotation=45)\n",
    "plt.grid()\n",
    "plt.show()"
   ]
  },
  {
   "cell_type": "code",
   "execution_count": 432,
   "id": "58c44f15-8167-4435-ab38-b8b122eb6845",
   "metadata": {
    "scrolled": true
   },
   "outputs": [
    {
     "data": {
      "image/png": "[encoded data removed]",
      "text/plain": [
       "<Figure size 640x480 with 1 Axes>"
      ]
     },
     "metadata": {
      "image/png": {
       "height": 464,
       "width": 578
      }
     },
     "output_type": "display_data"
    }
   ],
   "source": [
    "sns.barplot(x='자치구',y='정류장수',data=seoul_bus_station)\n",
    "plt.xticks(rotation=45)\n",
    "plt.grid()\n",
    "plt.show()"
   ]
  },
  {
   "cell_type": "code",
   "execution_count": 440,
   "id": "5ed0916d-30cd-4445-ae30-f43b5f0a4f21",
   "metadata": {
    "scrolled": true
   },
   "outputs": [
    {
     "data": {
      "image/png": "[encoded data removed]",
      "text/plain": [
       "<Figure size 640x480 with 1 Axes>"
      ]
     },
     "metadata": {
      "image/png": {
       "height": 412,
       "width": 551
      }
     },
     "output_type": "display_data"
    }
   ],
   "source": [
    "plt.scatter(seoul_bus_station['정류장수'],seoul_bus_station['노선수'])\n",
    "plt.show()"
   ]
  },
  {
   "cell_type": "code",
   "execution_count": 442,
   "id": "007f4bf9-592e-4950-991b-0a0f01d4f0a1",
   "metadata": {},
   "outputs": [
    {
     "data": {
      "text/plain": [
       "PearsonRResult(statistic=0.29996121612262033, pvalue=0.1451676231174176)"
      ]
     },
     "execution_count": 442,
     "metadata": {},
     "output_type": "execute_result"
    }
   ],
   "source": [
    "import scipy.stats as spst\n",
    "spst.pearsonr(seoul_bus_station['정류장수'],seoul_bus_station['노선수'])"
   ]
  },
  {
   "cell_type": "code",
   "execution_count": null,
   "id": "86892a60",
   "metadata": {
    "id": "86892a60"
   },
   "outputs": [],
   "source": [
    "# 위 시각화흫 통해 알게된 사실을 정리해 보세요.\n",
    "\n",
    "\n"
   ]
  }
 ],
 "metadata": {
  "colab": {
   "provenance": []
  },
  "kernelspec": {
   "display_name": "Python 3 (ipykernel)",
   "language": "python",
   "name": "python3"
  },
  "language_info": {
   "codemirror_mode": {
    "name": "ipython",
    "version": 3
   },
   "file_extension": ".py",
   "mimetype": "text/x-python",
   "name": "python",
   "nbconvert_exporter": "python",
   "pygments_lexer": "ipython3",
   "version": "3.12.4"
  },
  "vscode": {
   "interpreter": {
    "hash": "f08154012ddadd8e950e6e9e035c7a7b32c136e7647e9b7c77e02eb723a8bedb"
   }
  }
 },
 "nbformat": 4,
 "nbformat_minor": 5
}
